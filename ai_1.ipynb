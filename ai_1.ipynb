{
  "nbformat": 4,
  "nbformat_minor": 0,
  "metadata": {
    "colab": {
      "provenance": [],
      "authorship_tag": "ABX9TyM5uX+yM+047jcfppOVFeat",
      "include_colab_link": true
    },
    "kernelspec": {
      "name": "python3",
      "display_name": "Python 3"
    },
    "language_info": {
      "name": "python"
    }
  },
  "cells": [
    {
      "cell_type": "markdown",
      "metadata": {
        "id": "view-in-github",
        "colab_type": "text"
      },
      "source": [
        "<a href=\"https://colab.research.google.com/github/mdeniz20/NLP-0/blob/main/ai_1.ipynb\" target=\"_parent\"><img src=\"https://colab.research.google.com/assets/colab-badge.svg\" alt=\"Open In Colab\"/></a>"
      ]
    },
    {
      "cell_type": "code",
      "source": [
        "!pip install -U langchain-cohere"
      ],
      "metadata": {
        "id": "bmOHkwav9YI2",
        "collapsed": true,
        "colab": {
          "base_uri": "https://localhost:8080/"
        },
        "outputId": "15effecd-9e27-48cd-f2a3-514bd5c78357"
      },
      "execution_count": 1,
      "outputs": [
        {
          "output_type": "stream",
          "name": "stdout",
          "text": [
            "Collecting langchain-cohere\n",
            "  Downloading langchain_cohere-0.1.9-py3-none-any.whl (35 kB)\n",
            "Collecting cohere<6.0,>=5.5.6 (from langchain-cohere)\n",
            "  Downloading cohere-5.6.2-py3-none-any.whl (177 kB)\n",
            "\u001b[2K     \u001b[90m━━━━━━━━━━━━━━━━━━━━━━━━━━━━━━━━━━━━━━━━\u001b[0m \u001b[32m177.4/177.4 kB\u001b[0m \u001b[31m6.0 MB/s\u001b[0m eta \u001b[36m0:00:00\u001b[0m\n",
            "\u001b[?25hCollecting langchain-core<0.3,>=0.2.2 (from langchain-cohere)\n",
            "  Downloading langchain_core-0.2.22-py3-none-any.whl (373 kB)\n",
            "\u001b[2K     \u001b[90m━━━━━━━━━━━━━━━━━━━━━━━━━━━━━━━━━━━━━━━━\u001b[0m \u001b[32m373.5/373.5 kB\u001b[0m \u001b[31m6.1 MB/s\u001b[0m eta \u001b[36m0:00:00\u001b[0m\n",
            "\u001b[?25hCollecting langchain-experimental>=0.0.6 (from langchain-cohere)\n",
            "  Downloading langchain_experimental-0.0.62-py3-none-any.whl (202 kB)\n",
            "\u001b[2K     \u001b[90m━━━━━━━━━━━━━━━━━━━━━━━━━━━━━━━━━━━━━━━━\u001b[0m \u001b[32m202.7/202.7 kB\u001b[0m \u001b[31m3.3 MB/s\u001b[0m eta \u001b[36m0:00:00\u001b[0m\n",
            "\u001b[?25hRequirement already satisfied: pandas>=1.4.3 in /usr/local/lib/python3.10/dist-packages (from langchain-cohere) (2.0.3)\n",
            "Requirement already satisfied: tabulate<0.10.0,>=0.9.0 in /usr/local/lib/python3.10/dist-packages (from langchain-cohere) (0.9.0)\n",
            "Collecting boto3<2.0.0,>=1.34.0 (from cohere<6.0,>=5.5.6->langchain-cohere)\n",
            "  Downloading boto3-1.34.146-py3-none-any.whl (139 kB)\n",
            "\u001b[2K     \u001b[90m━━━━━━━━━━━━━━━━━━━━━━━━━━━━━━━━━━━━━━━━\u001b[0m \u001b[32m139.2/139.2 kB\u001b[0m \u001b[31m3.2 MB/s\u001b[0m eta \u001b[36m0:00:00\u001b[0m\n",
            "\u001b[?25hCollecting fastavro<2.0.0,>=1.9.4 (from cohere<6.0,>=5.5.6->langchain-cohere)\n",
            "  Downloading fastavro-1.9.5-cp310-cp310-manylinux_2_17_x86_64.manylinux2014_x86_64.whl (3.1 MB)\n",
            "\u001b[2K     \u001b[90m━━━━━━━━━━━━━━━━━━━━━━━━━━━━━━━━━━━━━━━━\u001b[0m \u001b[32m3.1/3.1 MB\u001b[0m \u001b[31m16.7 MB/s\u001b[0m eta \u001b[36m0:00:00\u001b[0m\n",
            "\u001b[?25hCollecting httpx>=0.21.2 (from cohere<6.0,>=5.5.6->langchain-cohere)\n",
            "  Downloading httpx-0.27.0-py3-none-any.whl (75 kB)\n",
            "\u001b[2K     \u001b[90m━━━━━━━━━━━━━━━━━━━━━━━━━━━━━━━━━━━━━━━━\u001b[0m \u001b[32m75.6/75.6 kB\u001b[0m \u001b[31m6.2 MB/s\u001b[0m eta \u001b[36m0:00:00\u001b[0m\n",
            "\u001b[?25hCollecting httpx-sse<0.5.0,>=0.4.0 (from cohere<6.0,>=5.5.6->langchain-cohere)\n",
            "  Downloading httpx_sse-0.4.0-py3-none-any.whl (7.8 kB)\n",
            "Collecting parameterized<0.10.0,>=0.9.0 (from cohere<6.0,>=5.5.6->langchain-cohere)\n",
            "  Downloading parameterized-0.9.0-py2.py3-none-any.whl (20 kB)\n",
            "Requirement already satisfied: pydantic>=1.9.2 in /usr/local/lib/python3.10/dist-packages (from cohere<6.0,>=5.5.6->langchain-cohere) (2.8.2)\n",
            "Requirement already satisfied: requests<3.0.0,>=2.0.0 in /usr/local/lib/python3.10/dist-packages (from cohere<6.0,>=5.5.6->langchain-cohere) (2.31.0)\n",
            "Requirement already satisfied: tokenizers<1,>=0.15 in /usr/local/lib/python3.10/dist-packages (from cohere<6.0,>=5.5.6->langchain-cohere) (0.19.1)\n",
            "Collecting types-requests<3.0.0,>=2.0.0 (from cohere<6.0,>=5.5.6->langchain-cohere)\n",
            "  Downloading types_requests-2.32.0.20240712-py3-none-any.whl (15 kB)\n",
            "Requirement already satisfied: typing_extensions>=4.0.0 in /usr/local/lib/python3.10/dist-packages (from cohere<6.0,>=5.5.6->langchain-cohere) (4.12.2)\n",
            "Requirement already satisfied: PyYAML>=5.3 in /usr/local/lib/python3.10/dist-packages (from langchain-core<0.3,>=0.2.2->langchain-cohere) (6.0.1)\n",
            "Collecting jsonpatch<2.0,>=1.33 (from langchain-core<0.3,>=0.2.2->langchain-cohere)\n",
            "  Downloading jsonpatch-1.33-py2.py3-none-any.whl (12 kB)\n",
            "Collecting langsmith<0.2.0,>=0.1.75 (from langchain-core<0.3,>=0.2.2->langchain-cohere)\n",
            "  Downloading langsmith-0.1.93-py3-none-any.whl (139 kB)\n",
            "\u001b[2K     \u001b[90m━━━━━━━━━━━━━━━━━━━━━━━━━━━━━━━━━━━━━━━━\u001b[0m \u001b[32m139.8/139.8 kB\u001b[0m \u001b[31m7.7 MB/s\u001b[0m eta \u001b[36m0:00:00\u001b[0m\n",
            "\u001b[?25hRequirement already satisfied: packaging<25,>=23.2 in /usr/local/lib/python3.10/dist-packages (from langchain-core<0.3,>=0.2.2->langchain-cohere) (24.1)\n",
            "Requirement already satisfied: tenacity!=8.4.0,<9.0.0,>=8.1.0 in /usr/local/lib/python3.10/dist-packages (from langchain-core<0.3,>=0.2.2->langchain-cohere) (8.5.0)\n",
            "Collecting langchain-community<0.3.0,>=0.2.6 (from langchain-experimental>=0.0.6->langchain-cohere)\n",
            "  Downloading langchain_community-0.2.9-py3-none-any.whl (2.3 MB)\n",
            "\u001b[2K     \u001b[90m━━━━━━━━━━━━━━━━━━━━━━━━━━━━━━━━━━━━━━━━\u001b[0m \u001b[32m2.3/2.3 MB\u001b[0m \u001b[31m19.5 MB/s\u001b[0m eta \u001b[36m0:00:00\u001b[0m\n",
            "\u001b[?25hRequirement already satisfied: python-dateutil>=2.8.2 in /usr/local/lib/python3.10/dist-packages (from pandas>=1.4.3->langchain-cohere) (2.8.2)\n",
            "Requirement already satisfied: pytz>=2020.1 in /usr/local/lib/python3.10/dist-packages (from pandas>=1.4.3->langchain-cohere) (2023.4)\n",
            "Requirement already satisfied: tzdata>=2022.1 in /usr/local/lib/python3.10/dist-packages (from pandas>=1.4.3->langchain-cohere) (2024.1)\n",
            "Requirement already satisfied: numpy>=1.21.0 in /usr/local/lib/python3.10/dist-packages (from pandas>=1.4.3->langchain-cohere) (1.25.2)\n",
            "Collecting botocore<1.35.0,>=1.34.146 (from boto3<2.0.0,>=1.34.0->cohere<6.0,>=5.5.6->langchain-cohere)\n",
            "  Downloading botocore-1.34.146-py3-none-any.whl (12.4 MB)\n",
            "\u001b[2K     \u001b[90m━━━━━━━━━━━━━━━━━━━━━━━━━━━━━━━━━━━━━━━━\u001b[0m \u001b[32m12.4/12.4 MB\u001b[0m \u001b[31m19.6 MB/s\u001b[0m eta \u001b[36m0:00:00\u001b[0m\n",
            "\u001b[?25hCollecting jmespath<2.0.0,>=0.7.1 (from boto3<2.0.0,>=1.34.0->cohere<6.0,>=5.5.6->langchain-cohere)\n",
            "  Downloading jmespath-1.0.1-py3-none-any.whl (20 kB)\n",
            "Collecting s3transfer<0.11.0,>=0.10.0 (from boto3<2.0.0,>=1.34.0->cohere<6.0,>=5.5.6->langchain-cohere)\n",
            "  Downloading s3transfer-0.10.2-py3-none-any.whl (82 kB)\n",
            "\u001b[2K     \u001b[90m━━━━━━━━━━━━━━━━━━━━━━━━━━━━━━━━━━━━━━━━\u001b[0m \u001b[32m82.7/82.7 kB\u001b[0m \u001b[31m7.7 MB/s\u001b[0m eta \u001b[36m0:00:00\u001b[0m\n",
            "\u001b[?25hRequirement already satisfied: anyio in /usr/local/lib/python3.10/dist-packages (from httpx>=0.21.2->cohere<6.0,>=5.5.6->langchain-cohere) (3.7.1)\n",
            "Requirement already satisfied: certifi in /usr/local/lib/python3.10/dist-packages (from httpx>=0.21.2->cohere<6.0,>=5.5.6->langchain-cohere) (2024.7.4)\n",
            "Collecting httpcore==1.* (from httpx>=0.21.2->cohere<6.0,>=5.5.6->langchain-cohere)\n",
            "  Downloading httpcore-1.0.5-py3-none-any.whl (77 kB)\n",
            "\u001b[2K     \u001b[90m━━━━━━━━━━━━━━━━━━━━━━━━━━━━━━━━━━━━━━━━\u001b[0m \u001b[32m77.9/77.9 kB\u001b[0m \u001b[31m9.3 MB/s\u001b[0m eta \u001b[36m0:00:00\u001b[0m\n",
            "\u001b[?25hRequirement already satisfied: idna in /usr/local/lib/python3.10/dist-packages (from httpx>=0.21.2->cohere<6.0,>=5.5.6->langchain-cohere) (3.7)\n",
            "Requirement already satisfied: sniffio in /usr/local/lib/python3.10/dist-packages (from httpx>=0.21.2->cohere<6.0,>=5.5.6->langchain-cohere) (1.3.1)\n",
            "Collecting h11<0.15,>=0.13 (from httpcore==1.*->httpx>=0.21.2->cohere<6.0,>=5.5.6->langchain-cohere)\n",
            "  Downloading h11-0.14.0-py3-none-any.whl (58 kB)\n",
            "\u001b[2K     \u001b[90m━━━━━━━━━━━━━━━━━━━━━━━━━━━━━━━━━━━━━━━━\u001b[0m \u001b[32m58.3/58.3 kB\u001b[0m \u001b[31m5.5 MB/s\u001b[0m eta \u001b[36m0:00:00\u001b[0m\n",
            "\u001b[?25hCollecting jsonpointer>=1.9 (from jsonpatch<2.0,>=1.33->langchain-core<0.3,>=0.2.2->langchain-cohere)\n",
            "  Downloading jsonpointer-3.0.0-py2.py3-none-any.whl (7.6 kB)\n",
            "Requirement already satisfied: SQLAlchemy<3,>=1.4 in /usr/local/lib/python3.10/dist-packages (from langchain-community<0.3.0,>=0.2.6->langchain-experimental>=0.0.6->langchain-cohere) (2.0.31)\n",
            "Requirement already satisfied: aiohttp<4.0.0,>=3.8.3 in /usr/local/lib/python3.10/dist-packages (from langchain-community<0.3.0,>=0.2.6->langchain-experimental>=0.0.6->langchain-cohere) (3.9.5)\n",
            "Collecting dataclasses-json<0.7,>=0.5.7 (from langchain-community<0.3.0,>=0.2.6->langchain-experimental>=0.0.6->langchain-cohere)\n",
            "  Downloading dataclasses_json-0.6.7-py3-none-any.whl (28 kB)\n",
            "Collecting langchain<0.3.0,>=0.2.9 (from langchain-community<0.3.0,>=0.2.6->langchain-experimental>=0.0.6->langchain-cohere)\n",
            "  Downloading langchain-0.2.10-py3-none-any.whl (990 kB)\n",
            "\u001b[2K     \u001b[90m━━━━━━━━━━━━━━━━━━━━━━━━━━━━━━━━━━━━━━━━\u001b[0m \u001b[32m990.0/990.0 kB\u001b[0m \u001b[31m47.0 MB/s\u001b[0m eta \u001b[36m0:00:00\u001b[0m\n",
            "\u001b[?25hCollecting orjson<4.0.0,>=3.9.14 (from langsmith<0.2.0,>=0.1.75->langchain-core<0.3,>=0.2.2->langchain-cohere)\n",
            "  Downloading orjson-3.10.6-cp310-cp310-manylinux_2_17_x86_64.manylinux2014_x86_64.whl (141 kB)\n",
            "\u001b[2K     \u001b[90m━━━━━━━━━━━━━━━━━━━━━━━━━━━━━━━━━━━━━━━━\u001b[0m \u001b[32m141.1/141.1 kB\u001b[0m \u001b[31m5.3 MB/s\u001b[0m eta \u001b[36m0:00:00\u001b[0m\n",
            "\u001b[?25hRequirement already satisfied: annotated-types>=0.4.0 in /usr/local/lib/python3.10/dist-packages (from pydantic>=1.9.2->cohere<6.0,>=5.5.6->langchain-cohere) (0.7.0)\n",
            "Requirement already satisfied: pydantic-core==2.20.1 in /usr/local/lib/python3.10/dist-packages (from pydantic>=1.9.2->cohere<6.0,>=5.5.6->langchain-cohere) (2.20.1)\n",
            "Requirement already satisfied: six>=1.5 in /usr/local/lib/python3.10/dist-packages (from python-dateutil>=2.8.2->pandas>=1.4.3->langchain-cohere) (1.16.0)\n",
            "Requirement already satisfied: charset-normalizer<4,>=2 in /usr/local/lib/python3.10/dist-packages (from requests<3.0.0,>=2.0.0->cohere<6.0,>=5.5.6->langchain-cohere) (3.3.2)\n",
            "Requirement already satisfied: urllib3<3,>=1.21.1 in /usr/local/lib/python3.10/dist-packages (from requests<3.0.0,>=2.0.0->cohere<6.0,>=5.5.6->langchain-cohere) (2.0.7)\n",
            "Requirement already satisfied: huggingface-hub<1.0,>=0.16.4 in /usr/local/lib/python3.10/dist-packages (from tokenizers<1,>=0.15->cohere<6.0,>=5.5.6->langchain-cohere) (0.23.5)\n",
            "Requirement already satisfied: aiosignal>=1.1.2 in /usr/local/lib/python3.10/dist-packages (from aiohttp<4.0.0,>=3.8.3->langchain-community<0.3.0,>=0.2.6->langchain-experimental>=0.0.6->langchain-cohere) (1.3.1)\n",
            "Requirement already satisfied: attrs>=17.3.0 in /usr/local/lib/python3.10/dist-packages (from aiohttp<4.0.0,>=3.8.3->langchain-community<0.3.0,>=0.2.6->langchain-experimental>=0.0.6->langchain-cohere) (23.2.0)\n",
            "Requirement already satisfied: frozenlist>=1.1.1 in /usr/local/lib/python3.10/dist-packages (from aiohttp<4.0.0,>=3.8.3->langchain-community<0.3.0,>=0.2.6->langchain-experimental>=0.0.6->langchain-cohere) (1.4.1)\n",
            "Requirement already satisfied: multidict<7.0,>=4.5 in /usr/local/lib/python3.10/dist-packages (from aiohttp<4.0.0,>=3.8.3->langchain-community<0.3.0,>=0.2.6->langchain-experimental>=0.0.6->langchain-cohere) (6.0.5)\n",
            "Requirement already satisfied: yarl<2.0,>=1.0 in /usr/local/lib/python3.10/dist-packages (from aiohttp<4.0.0,>=3.8.3->langchain-community<0.3.0,>=0.2.6->langchain-experimental>=0.0.6->langchain-cohere) (1.9.4)\n",
            "Requirement already satisfied: async-timeout<5.0,>=4.0 in /usr/local/lib/python3.10/dist-packages (from aiohttp<4.0.0,>=3.8.3->langchain-community<0.3.0,>=0.2.6->langchain-experimental>=0.0.6->langchain-cohere) (4.0.3)\n",
            "Collecting marshmallow<4.0.0,>=3.18.0 (from dataclasses-json<0.7,>=0.5.7->langchain-community<0.3.0,>=0.2.6->langchain-experimental>=0.0.6->langchain-cohere)\n",
            "  Downloading marshmallow-3.21.3-py3-none-any.whl (49 kB)\n",
            "\u001b[2K     \u001b[90m━━━━━━━━━━━━━━━━━━━━━━━━━━━━━━━━━━━━━━━━\u001b[0m \u001b[32m49.2/49.2 kB\u001b[0m \u001b[31m4.7 MB/s\u001b[0m eta \u001b[36m0:00:00\u001b[0m\n",
            "\u001b[?25hCollecting typing-inspect<1,>=0.4.0 (from dataclasses-json<0.7,>=0.5.7->langchain-community<0.3.0,>=0.2.6->langchain-experimental>=0.0.6->langchain-cohere)\n",
            "  Downloading typing_inspect-0.9.0-py3-none-any.whl (8.8 kB)\n",
            "Requirement already satisfied: filelock in /usr/local/lib/python3.10/dist-packages (from huggingface-hub<1.0,>=0.16.4->tokenizers<1,>=0.15->cohere<6.0,>=5.5.6->langchain-cohere) (3.15.4)\n",
            "Requirement already satisfied: fsspec>=2023.5.0 in /usr/local/lib/python3.10/dist-packages (from huggingface-hub<1.0,>=0.16.4->tokenizers<1,>=0.15->cohere<6.0,>=5.5.6->langchain-cohere) (2023.6.0)\n",
            "Requirement already satisfied: tqdm>=4.42.1 in /usr/local/lib/python3.10/dist-packages (from huggingface-hub<1.0,>=0.16.4->tokenizers<1,>=0.15->cohere<6.0,>=5.5.6->langchain-cohere) (4.66.4)\n",
            "Collecting langchain-text-splitters<0.3.0,>=0.2.0 (from langchain<0.3.0,>=0.2.9->langchain-community<0.3.0,>=0.2.6->langchain-experimental>=0.0.6->langchain-cohere)\n",
            "  Downloading langchain_text_splitters-0.2.2-py3-none-any.whl (25 kB)\n",
            "Requirement already satisfied: greenlet!=0.4.17 in /usr/local/lib/python3.10/dist-packages (from SQLAlchemy<3,>=1.4->langchain-community<0.3.0,>=0.2.6->langchain-experimental>=0.0.6->langchain-cohere) (3.0.3)\n",
            "Requirement already satisfied: exceptiongroup in /usr/local/lib/python3.10/dist-packages (from anyio->httpx>=0.21.2->cohere<6.0,>=5.5.6->langchain-cohere) (1.2.2)\n",
            "Collecting mypy-extensions>=0.3.0 (from typing-inspect<1,>=0.4.0->dataclasses-json<0.7,>=0.5.7->langchain-community<0.3.0,>=0.2.6->langchain-experimental>=0.0.6->langchain-cohere)\n",
            "  Downloading mypy_extensions-1.0.0-py3-none-any.whl (4.7 kB)\n",
            "Installing collected packages: types-requests, parameterized, orjson, mypy-extensions, marshmallow, jsonpointer, jmespath, httpx-sse, h11, fastavro, typing-inspect, jsonpatch, httpcore, botocore, s3transfer, langsmith, httpx, dataclasses-json, langchain-core, boto3, langchain-text-splitters, cohere, langchain, langchain-community, langchain-experimental, langchain-cohere\n",
            "Successfully installed boto3-1.34.146 botocore-1.34.146 cohere-5.6.2 dataclasses-json-0.6.7 fastavro-1.9.5 h11-0.14.0 httpcore-1.0.5 httpx-0.27.0 httpx-sse-0.4.0 jmespath-1.0.1 jsonpatch-1.33 jsonpointer-3.0.0 langchain-0.2.10 langchain-cohere-0.1.9 langchain-community-0.2.9 langchain-core-0.2.22 langchain-experimental-0.0.62 langchain-text-splitters-0.2.2 langsmith-0.1.93 marshmallow-3.21.3 mypy-extensions-1.0.0 orjson-3.10.6 parameterized-0.9.0 s3transfer-0.10.2 types-requests-2.32.0.20240712 typing-inspect-0.9.0\n"
          ]
        }
      ]
    },
    {
      "cell_type": "code",
      "source": [
        "from langchain_core.runnables import RunnableLambda, RunnableSequence\n",
        "import getpass\n",
        "import os\n",
        "from langchain_cohere import ChatCohere\n",
        "from langchain_core.messages import HumanMessage, AIMessage, SystemMessage\n",
        "from langchain.prompts import ChatPromptTemplate\n",
        "from langchain.schema.output_parser import StrOutputParser"
      ],
      "metadata": {
        "id": "xxNmURDZ8ZDg"
      },
      "execution_count": 18,
      "outputs": []
    },
    {
      "cell_type": "code",
      "source": [
        "class TestLangchain:\n",
        "    def add_one(self, x):\n",
        "        return x + 1\n",
        "    def multiply_by_two(self, x):\n",
        "        return x * 2\n",
        "\n",
        "\n",
        "    def run(self, x):\n",
        "      runnable1 = RunnableLambda(self.add_one)\n",
        "      runnable2 = RunnableLambda(self.multiply_by_two)\n",
        "      sequence = runnable1 | runnable2\n",
        "      return sequence.invoke(x)\n",
        "\n",
        "    def run_alt(self, x):\n",
        "      runnable1 = RunnableLambda(lambda x: x + 1)\n",
        "      runnable2 = RunnableLambda(lambda x: x * 2)\n",
        "      sequence = runnable1 | runnable2\n",
        "      return sequence.invoke(x)\n",
        "\n",
        "    def run_alt2(self, x):\n",
        "      runnable1 = RunnableLambda(lambda x: x + 1)\n",
        "      runnable2 = RunnableLambda(lambda x: self.multiply_by_two(x))\n",
        "      runnable3 = RunnableLambda(lambda x: f\"The result is {x}\")\n",
        "      sequence = RunnableSequence(first =  runnable1, middle = [runnable2], last=runnable3)\n",
        "      return sequence.invoke(x)\n",
        "\n",
        "test_chain = TestLangchain()\n",
        "print(test_chain.run(2))\n",
        "print(test_chain.run_alt(2))\n",
        "print(test_chain.run_alt2(2))\n"
      ],
      "metadata": {
        "colab": {
          "base_uri": "https://localhost:8080/"
        },
        "id": "NT0cZt7W76NY",
        "outputId": "6510c957-f0fc-4712-e7da-fb2759765555"
      },
      "execution_count": 15,
      "outputs": [
        {
          "output_type": "stream",
          "name": "stdout",
          "text": [
            "6\n",
            "6\n",
            "The result is 6\n"
          ]
        }
      ]
    },
    {
      "cell_type": "markdown",
      "source": [],
      "metadata": {
        "id": "CkkGB8Cw9IPz"
      }
    },
    {
      "cell_type": "code",
      "source": [
        "class Conversation:\n",
        "  __messages = []\n",
        "  __chat = None\n",
        "  def __init__(self, *, api_key: str = \"\", model: str = \"command-light\", system_message: str = \"\"):\n",
        "    if system_message:\n",
        "      self.__add_message(SystemMessage(content=system_message))\n",
        "    if api_key:\n",
        "      os.environ[\"COHERE_API_KEY\"] = api_key\n",
        "    else:\n",
        "      os.environ[\"COHERE_API_KEY\"] = getpass.getpass()\n",
        "\n",
        "    self.__chat = ChatCohere(model=model)\n",
        "\n",
        "  def set_model(self, model: str) -> None:\n",
        "    self.__chat = ChatCohere(model=model)\n",
        "  def get_model(self) -> str:\n",
        "    return self.__chat.model\n",
        "\n",
        "  def __add_message(self, message) -> None:\n",
        "    self.__messages.append(message)\n",
        "\n",
        "  def add_message(self, message) -> None:\n",
        "    self.__add_message(message)\n",
        "  def get_messages(self):\n",
        "    return self.__messages\n",
        "\n",
        "  def invoke_chat(self, message) -> str:\n",
        "    self.__add_message(HumanMessage(content=message))\n",
        "    response = self.__chat.invoke(self.__messages)\n",
        "    self.__add_message(AIMessage(content=response.content))\n",
        "    return response\n",
        "\n",
        "  def chat(self, message) -> str:\n",
        "    return self.invoke_chat(message).content\n",
        "ai = Conversation()"
      ],
      "metadata": {
        "colab": {
          "base_uri": "https://localhost:8080/"
        },
        "id": "-8pWwk0F82V8",
        "outputId": "5d95b7e6-e955-4aef-da3a-fc2ae33f1af3"
      },
      "execution_count": 28,
      "outputs": [
        {
          "name": "stdout",
          "output_type": "stream",
          "text": [
            "··········\n"
          ]
        }
      ]
    },
    {
      "cell_type": "code",
      "source": [
        "ai.set_model(\"command-r-plus\")\n",
        "print(ai.chat(\"how do you find those jokes?\"))"
      ],
      "metadata": {
        "colab": {
          "base_uri": "https://localhost:8080/"
        },
        "id": "i8IXhX6qBR9s",
        "outputId": "518ee2d2-a6c5-4125-aab8-89dbc9902a9b"
      },
      "execution_count": 35,
      "outputs": [
        {
          "output_type": "stream",
          "name": "stdout",
          "text": [
            "As an AI language model, I have been trained on vast amounts of text data, including jokes, stories, books, and conversations. When you ask me to tell a joke, I search my database for relevant humor and select the most appropriate response based on the context and your request. \n",
            "\n",
            "It's an automated process where I analyze the input, process the request, and generate a response that aligns with your query. In this case, I searched for jokes related to lawyers and computer engineers and presented the ones that matched the criteria. \n",
            "\n",
            "So, when you ask me to \"tell a joke,\" I'm happy to oblige and provide some laughter and entertainment!\n"
          ]
        }
      ]
    },
    {
      "cell_type": "code",
      "source": [
        "from langchain.agents import AgentExecutor\n",
        "from langchain_cohere.react_multi_hop.agent import create_cohere_react_agent\n",
        "from langchain_core.prompts import ChatPromptTemplate\n",
        "from langchain_cohere.chat_models import ChatCohere\n",
        "\n",
        "from langchain_community.tools.tavily_search import TavilySearchResults\n",
        "from langchain_core.pydantic_v1 import BaseModel, Field\n",
        "\n",
        "os.environ[\"TAVILY_API_KEY\"] = \"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\"\n",
        "\"\"\"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 -> smith\"\"\"\n",
        "\n",
        "internet_search = TavilySearchResults()\n",
        "internet_search.name = \"internet_search\"\n",
        "internet_search.description = \"Returns a list of relevant document snippets for a textual query retrieved from the internet.\"\n",
        "\n",
        "class TavilySearchInput(BaseModel):\n",
        "    query: str = Field(description=\"Query to search the internet with\")\n",
        "internet_search.args_schema = TavilySearchInput\n",
        "\n",
        "# LLM\n",
        "llm = ChatCohere(model=\"command-r-plus\", temperature=0)\n",
        "\n",
        "# Preamble\n",
        "preamble = \"\"\"\n",
        "You are an expert who answers the user's question with the most relevant datasource. You are equipped with an internet search tool and a special vectorstore of information about how to write good essays.\n",
        "\"\"\"\n",
        "\n",
        "# Prompt template\n",
        "prompt = ChatPromptTemplate.from_template(\"How much tl needed to buy one dollar?\")\n",
        "\n",
        "# Create the ReAct agent\n",
        "agent = create_cohere_react_agent(\n",
        "    llm=llm,\n",
        "    tools=[internet_search],\n",
        "    prompt=prompt,\n",
        ")\n",
        "\n",
        "agent_executor = AgentExecutor(agent=agent, tools=[internet_search], verbose=True)\n",
        "\n",
        "response = agent_executor.invoke({\n",
        "    \"input\": \"I want to write an essay. Any tips?\",\n",
        "    \"preamble\": preamble,\n",
        "})\n",
        "\n",
        "print(response['output'])"
      ],
      "metadata": {
        "colab": {
          "base_uri": "https://localhost:8080/"
        },
        "id": "ywKLqFRFB0ZZ",
        "outputId": "405e2ba7-87ea-44d4-d31d-0a9774d47943"
      },
      "execution_count": 44,
      "outputs": [
        {
          "output_type": "stream",
          "name": "stdout",
          "text": [
            "\n",
            "\n",
            "\u001b[1m> Entering new AgentExecutor chain...\u001b[0m\n",
            "\u001b[32;1m\u001b[1;3m\n",
            "I will search for the current exchange rate between the dollar and the Turkish lira.\n",
            "{'tool_name': 'internet_search', 'parameters': {'query': 'exchange rate dollar to turkish lira'}}\n",
            "\u001b[0m\u001b[36;1m\u001b[1;3m[{'url': 'https://www.xe.com/currencyconverter/convert/?From=USD&To=TRY', 'content': '1 USD to TRY - Convert US Dollars to Turkish Lire\\nXe Currency Converter\\n1.00 US Dollar =\\n28.904216 Turkish Lire\\n1 TRY = 0.0345970 USD\\nConvert US Dollar to Turkish Lira\\nConvert Turkish Lira to US Dollar\\nUSD to TRY Chart\\n1 USD = 0 TRY\\n1 US Dollar to Turkish Lira stats\\n Popular US Dollar (USD) Currency Pairings\\nUSD to USD\\nUSD to EUR\\nUSD to GBP\\nUSD to JPY\\nUSD to CAD\\nUSD to AUD\\nUSD to CHF\\nUSD to CNY\\n Over 70 million downloads worldwide\\n4.5/5, 2.2k ratings\\n3.8/5, 90.8k ratings\\n4.7/5, 41.5k ratings\\nLanguage\\nTransfer Money\\nApps\\nTools & Resources\\nXE Business\\nCompany Info\\nConsent Manager The currency symbol is $.\\nTRY - Turkish Lira\\nOur currency rankings show that the most popular Turkish Lira exchange rate is the TRY to USD rate. Currency Information\\nUSD - US Dollar\\nOur currency rankings show that the most popular US Dollar exchange rate is the USD to USD rate.'}, {'url': 'https://wise.com/us/currency-converter/usd-to-try-rate', 'content': 'Top currency pairings for US dollar\\nUSD to KRW\\nUSD to INR\\nUSD to JPY\\nUSD to CAD\\nUSD to EUR\\nUSD to GBP\\nUSD to CNY\\nUSD to MXN\\nChange Converter source currency\\nAre you overpaying your bank?\\n How to convert US dollars to Turkish liras\\nInput your amount\\nSimply type in the box how much you want to convert.\\nChoose your currencies\\nClick on the dropdown to select USD in the first dropdown as the currency that you want to convert and TRY in the second drop down as the currency you want to convert to.\\n US dollars to Turkish liras today\\nConvert USD to TRY at the real exchange rate\\n1.00000 USD =\\n28.97580 TRY\\nSpend abroad without hidden fees\\nLoading\\nCompare prices for sending money abroad\\nLeading competitors have a dirty little secret. Download Our Currency Converter App\\nCompany and team\\nWise Products\\nResources\\nFollow us\\n© Wise US Inc 2023\\n That’s it\\nOur currency converter will show you the current USD to TRY rate and how it’s changed over the past day, week or month.\\n'}, {'url': 'https://wise.com/us/currency-converter/try-to-usd-rate?amount=1', 'content': 'Analyze historical currency charts or live Turkish lira / US dollar rates and get free rate alerts directly to your email. ... Convert TRY to USD at the real exchange rate. Amount. 1. try. Converted to. 0.03. usd. TL1.000 TRY = $ 0.03027 USD. Mid-market exchange rate at 20:58.'}, {'url': 'https://www.bloomberg.com/quote/USDTRY:CUR', 'content': \"Asks What Are Cash-Hugging Stock Investors Waiting For\\nFeatured\\nPursuits\\nMiyazaki's 'The Boy and the Heron' is No. 1 at the box office, a first for the Japanese anime master\\nPursuits\\nJayden Daniels Claims Heisman Trophy to Become Third LSU Winner\\nFeatured\\nJessica Karl and Dave Lee | Columnist\\nElon Musk Will Have a Blue Xmas Without You\\nMatthew Yglesias | Columnist\\nAmerica Can’t Zone Its Way Out of Its Housing Crisis\\nTyler Cowen | Columnist\\nGovernment Secrecy About UFOs Isn’t Always a Bad Thing\\nThe Show\\nA Sociologist and Slutty Vegan’s Boss Talk Ownership on The Businessweek Show\\nBusinessweek\\nArgentina's New Libertarian Leader Softens His Economic Radicalism\\nFeature\\nAt World Central Kitchen, José Andrés Is in the Middle of a Mess\\nEquality\\nPenn Leaders Out After Genocide Response, Alumni Pressure\\nEquality\\nStarbucks Says It Wants Union Talks, Agreements in 2024\\nFeatured\\nESG\\nCOP28 Chief Pushes for Fossil Fuel Deal as Talks Get Bogged Down\\nESG\\nECB’s Stournaras Urges Focus on Climate Change’s Economic Impact\\nFeatured\\nDesign\\nThe\\xa0Chicago Architecture Biennial Is Stuck in a Loop\\nDesign\\nWhy\\xa0Big Architecture Firms Are Getting Bloomberg\\nConnecting decision makers to a dynamic network of information, people and ideas, Bloomberg quickly and accurately delivers business and financial information, news and insight around the world\\nFor Customers\\nSupport\\nAmericas+1 212 318 2000\\nEMEA+44 20 7330 7500\\nAsia Pacific+65 6212 1000\\nCompany\\nCommunications\\nFollow\\nProducts\\nIndustry Products\\nMedia\\nMedia Services\\nCompany\\nCommunications\\nFollow\\nProducts\\nIndustry Products\\nMedia\\nMedia Services\\nBloomberg\\nConnecting decision makers to a dynamic network of information, people and ideas, Bloomberg quickly and accurately delivers business and financial information, news and insight around the world\\nFor Customers\\nSupport\\nAmericas+1 212 318 2000\\nEMEA+44 20 7330 7500\\nAsia Pacific+65 6212 1000\\nBloomberg TV+\\nIdea Generation: Scooter Braun\\nOn this week's episode of IDEA GENERATION, Scooter Braun takes us on a journey from his days as a college dropout and party promoter in Atlanta, to becoming one of the most successful music executives on the planet. Molinari\\nTechnology\\nArm CEO Fears Humans Could Lose Control of AI\\nPursuits\\nKing Chooses Coronation Christmas Card But Family Photo for William and Kate\\nFeatured\\nTechnology\\nMusk Restores Alex Jones’s Account on X After Vote From Users\\nTechnology\\nApple Shutters Third-Party Apps that Enabled iMessage on Android\\nTechnology\\nArm CEO Fears Humans Could Lose Control of AI\\nAI\\nEurope Puts Stake in the Ground With First Pact to Regulate AI\\nAI\\nOpenAI’s Altman Ouster Was Result of Drawn-Out Tensions\\nTechnology\\nEU Strikes Deal to Regulate ChatGPT, Other AI in Landmark Act\\nPolitics\\nBiden’s Support of Israel Alienates More Democrats in New Poll\\nPolitics\\nAustralia’s PM Faces Key Test as Voter Economic Backlash Deepens\\nFeatured\\nWealth\\nGermany’s Social Democrats Vow to Tax the Rich and Loosen Debt Rules\\nWealth\\nCiti CIO Also streaming on your TV:\\nBusiness\\nCigna to Call Off Humana Deal, Plans $10 Billion Buyback\\nGreen\\nAzerbaijan Says It’s on Track to Double Gas Exports to Europe\\nMarket Data\\nCentral Banks\\nFed Starts to Confront the Next Big Question: Why to Cut Rates\\nCentral Banks\\nGoldman Sees BOE Rate Cuts Coming From August at ‘Quicker Pace’\\nEconomics\\nItaly’s Parliament Unlikely to Discuss ESM Bigger\\nEnvironment\\nParis’s Urban Forest Plan Takes a New Step Forward\\nCrypto\\nCrypto Altcoins Are Outperforming With Bitcoin ‘Gravitating’ Toward\\xa0$50,000\\nCrypto\\nBinance Founder CZ Must Stay in US Until Sentencing, Judge Orders\\nCrypto\\nBinance Withdraws Abu Dhabi License Application\\nUSD-TRY X-RATEUSDTRY:CUR\\nOverview\\nOverview\"}, {'url': 'https://www.x-rates.com/calculator/?from=USD&to=TRY&amount=1', 'content': 'Convert US Dollar to Turkish Lira with X-Rates, a free online tool that shows the exchange rate and historical data. See the current rate, monthly average, graphs and tables for USD/TRY.'}]\u001b[0m\u001b[32;1m\u001b[1;3mRelevant Documents: 0,1,2\n",
            "Cited Documents: 0,1,2\n",
            "Answer: As of today, 1 US dollar is worth 28.97580 Turkish lira.\n",
            "Grounded answer: As of today, <co: 0,1,2>1 US dollar</co: 0,1,2> is worth <co: 1>28.97580</co: 1> <co: 0,1,2>Turkish lira</co: 0,1,2>.\u001b[0m\n",
            "\n",
            "\u001b[1m> Finished chain.\u001b[0m\n",
            "As of today, 1 US dollar is worth 28.97580 Turkish lira.\n"
          ]
        }
      ]
    },
    {
      "cell_type": "code",
      "source": [
        "#!pip install langchainhub\n",
        "#!pip install -U langchain-cohere\n",
        "!pip install wikipedia"
      ],
      "metadata": {
        "collapsed": true,
        "id": "kY6YE2YnaFLm",
        "outputId": "44fc19fc-1e87-45c2-bfbe-dedd2e47811a",
        "colab": {
          "base_uri": "https://localhost:8080/"
        }
      },
      "execution_count": 51,
      "outputs": [
        {
          "output_type": "stream",
          "name": "stdout",
          "text": [
            "Collecting wikipedia\n",
            "  Downloading wikipedia-1.4.0.tar.gz (27 kB)\n",
            "  Preparing metadata (setup.py) ... \u001b[?25l\u001b[?25hdone\n",
            "Requirement already satisfied: beautifulsoup4 in /usr/local/lib/python3.10/dist-packages (from wikipedia) (4.12.3)\n",
            "Requirement already satisfied: requests<3.0.0,>=2.0.0 in /usr/local/lib/python3.10/dist-packages (from wikipedia) (2.31.0)\n",
            "Requirement already satisfied: charset-normalizer<4,>=2 in /usr/local/lib/python3.10/dist-packages (from requests<3.0.0,>=2.0.0->wikipedia) (3.3.2)\n",
            "Requirement already satisfied: idna<4,>=2.5 in /usr/local/lib/python3.10/dist-packages (from requests<3.0.0,>=2.0.0->wikipedia) (3.7)\n",
            "Requirement already satisfied: urllib3<3,>=1.21.1 in /usr/local/lib/python3.10/dist-packages (from requests<3.0.0,>=2.0.0->wikipedia) (2.0.7)\n",
            "Requirement already satisfied: certifi>=2017.4.17 in /usr/local/lib/python3.10/dist-packages (from requests<3.0.0,>=2.0.0->wikipedia) (2024.7.4)\n",
            "Requirement already satisfied: soupsieve>1.2 in /usr/local/lib/python3.10/dist-packages (from beautifulsoup4->wikipedia) (2.5)\n",
            "Building wheels for collected packages: wikipedia\n",
            "  Building wheel for wikipedia (setup.py) ... \u001b[?25l\u001b[?25hdone\n",
            "  Created wheel for wikipedia: filename=wikipedia-1.4.0-py3-none-any.whl size=11680 sha256=305157da2203f19da458127e6d3d32a70a895e6eb78bdd69e6290fe46558a406\n",
            "  Stored in directory: /root/.cache/pip/wheels/5e/b6/c5/93f3dec388ae76edc830cb42901bb0232504dfc0df02fc50de\n",
            "Successfully built wikipedia\n",
            "Installing collected packages: wikipedia\n",
            "Successfully installed wikipedia-1.4.0\n"
          ]
        }
      ]
    },
    {
      "cell_type": "code",
      "source": [
        "# set the LANGCHAIN_API_KEY environment variable (create key in settings)\n",
        "from langchain import hub\n",
        "from langchain.agents import AgentExecutor, create_structured_chat_agent\n",
        "from langchain.memory import ConversationBufferMemory\n",
        "from langchain_core.messages import HumanMessage, AIMessage, SystemMessage\n",
        "from langchain_core.tools import Tool, StructuredTool, tool\n",
        "from langchain_cohere import ChatCohere\n",
        "\n",
        "from langchain.schema import SystemMessage\n",
        "import os\n",
        "os.environ[\"LANGCHAIN_API_KEY\"] = \"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\"\n",
        "os.environ[\"COHERE_API_KEY\"] = \"ivX0IquCfE4RSABYyNX7iPGWkssXk21hsgqaUvUC\"\n",
        "prompt = hub.pull(\"hwchase17/structured-chat-agent\")\n",
        "\n",
        "balance: float = 100\n",
        "def get_current_time(*args):\n",
        "    \"\"\"Returns the current time in HH:MM AM/PM format.\"\"\"\n",
        "    import datetime\n",
        "    from zoneinfo import ZoneInfo\n",
        "\n",
        "    # Create a timezone object for GMT+3\n",
        "    gmt_plus_3 = ZoneInfo(\"Etc/GMT+3\")\n",
        "    now = datetime.datetime.now(gmt_plus_3)\n",
        "    return now.strftime(\"%I:%M %p \")\n",
        "\n",
        "def get_current_balance(*args) -> float:\n",
        "  \"\"\"Returns the current balance of the user in terms of dollars ($).\"\"\"\n",
        "  return balance\n",
        "\n",
        "def add_balance(amount: float) -> float:\n",
        "  \"\"\"Adds the given amount to the user's balance, then returns the recent balance in terms of dollars ($)\"\"\"\n",
        "  balance += amount\n",
        "  return balance\n",
        "\n",
        "def search_wiki(query):\n",
        "  from wikipedia import summary\n",
        "  print(query)\n",
        "  try:\n",
        "    return summary(query, sentences = 2)\n",
        "  except:\n",
        "    return f\"No results found for {query}\"\n",
        "\n",
        "def chat(message):\n",
        "  pass\n",
        "  return message\n",
        "\n",
        "tools = [\n",
        "    Tool(\n",
        "        name = \"Current Time\",\n",
        "        func=get_current_time,\n",
        "        description=\"useful for when you need to know the current time\"\n",
        "    ),\n",
        "    Tool(\n",
        "        name = \"Search Wiki\",\n",
        "        func=search_wiki,\n",
        "        description=\"useful for when you need to know information about a topic\"\n",
        "    ),\n",
        "    Tool(\n",
        "        name = \"Current Balance\",\n",
        "        func=get_current_balance,\n",
        "        description=\"useful for when you need to know the current balance in dolars\"\n",
        "    ),\n",
        "    Tool(\n",
        "        name = \"Chat\",\n",
        "        func = chat,\n",
        "        description=\"useful for when you need to chat\"\n",
        "    )\n",
        "]\n",
        "\n",
        "llm = ChatCohere(model=\"command-r-plus\")\n",
        "memory = ConversationBufferMemory(memory_key=\"chat_history\", return_messages = True)\n",
        "agent = create_structured_chat_agent(llm = llm, tools = tools, prompt = prompt)\n",
        "\n",
        "agent_executer = AgentExecutor.from_agent_and_tools(\n",
        "    agent = agent,\n",
        "    tools = tools,\n",
        "    memory = memory,\n",
        "    verbose = False,\n",
        "    handle_parsing_errors = True\n",
        ")\n",
        "\n",
        "initial_message = \"You are an AI assistant that can provide helpful answers using available tools.\\nIf you are unable to answer, retry. Your name is BasilGPT, always intoduce yourself. You can edit the users balance.\"\n",
        "memory.chat_memory.add_message(SystemMessage(content=initial_message))\n",
        "print(get_current_time())\n",
        "while True:\n",
        "\n",
        "  user_input = input(\"User: \")\n",
        "  if user_input == \"exit\":\n",
        "    break\n",
        "\n",
        "  memory.chat_memory.add_message(HumanMessage(content=user_input))\n",
        "  response = agent_executer.invoke({\"input\": user_input})\n",
        "  print(f\"Agent: {response['output']}\")\n",
        "  memory.chat_memory.add_message(AIMessage(content=response[\"output\"]))"
      ],
      "metadata": {
        "colab": {
          "base_uri": "https://localhost:8080/"
        },
        "id": "9J0X22R9Q8gJ",
        "outputId": "7dd67370-08d8-401d-89a8-9907543197a3"
      },
      "execution_count": 89,
      "outputs": [
        {
          "name": "stdout",
          "output_type": "stream",
          "text": [
            "10:35 AM \n",
            "Agent: Hello, I am BasilGPT. How can I help?\n",
            "Agent: You have $100 in your balance.\n",
            "Agent: You now have $200.\n",
            "Agent: No problem!\n",
            "Agent: I am BasilGPT, an AI assistant chatbot.\n",
            "Agent: I can help you with a variety of tasks, including but not limited to:\n",
            "- Providing information on a wide range of topics\n",
            "- Answering questions\n",
            "- Generating text based on your input\n",
            "- Assisting with language translation\n",
            "- Summarizing text\n",
            "- And more! Feel free to ask me about specific capabilities or how I can assist you with a particular task.\n",
            "Agent: I have access to several tools to assist you. Here's a list of some of the key tools I can utilize:\n",
            "\n",
            "- Current Time: I can provide you with the current time.\n",
            "- Search Wiki: I can search and retrieve information from Wikipedia.\n",
            "- Current Balance: I can check and modify your account balance.\n",
            "- Chat: I can engage in conversational responses and provide assistance.\n",
            "\n",
            "My capabilities are constantly evolving, and I may gain access to new tools over time. Feel free to ask about specific tasks or areas where you think a tool might be useful!\n",
            "User: exit\n"
          ]
        }
      ]
    }
  ]
}