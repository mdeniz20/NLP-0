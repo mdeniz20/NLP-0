{
  "nbformat": 4,
  "nbformat_minor": 0,
  "metadata": {
    "colab": {
      "provenance": [],
      "authorship_tag": "ABX9TyNa6YRxLmZnTd6+RqRKrfH0",
      "include_colab_link": true
    },
    "kernelspec": {
      "name": "python3",
      "display_name": "Python 3"
    },
    "language_info": {
      "name": "python"
    }
  },
  "cells": [
    {
      "cell_type": "markdown",
      "metadata": {
        "id": "view-in-github",
        "colab_type": "text"
      },
      "source": [
        "<a href=\"https://colab.research.google.com/github/mdeniz20/NLP-0/blob/main/sqlite_agent.ipynb\" target=\"_parent\"><img src=\"https://colab.research.google.com/assets/colab-badge.svg\" alt=\"Open In Colab\"/></a>"
      ]
    },
    {
      "cell_type": "code",
      "source": [
        "!pip install cohere --upgrade"
      ],
      "metadata": {
        "id": "nZdBoHDjzRfw"
      },
      "execution_count": null,
      "outputs": []
    },
    {
      "cell_type": "code",
      "source": [
        "import sqlite3\n",
        "import cohere"
      ],
      "metadata": {
        "id": "3nJwNTvXLvki"
      },
      "execution_count": 288,
      "outputs": []
    },
    {
      "cell_type": "code",
      "source": [
        "con = sqlite3.connect(\"database.db\")\n",
        "cur = con.cursor()"
      ],
      "metadata": {
        "id": "1rzijP4dL-hy"
      },
      "execution_count": 289,
      "outputs": []
    },
    {
      "cell_type": "code",
      "source": [
        "cur.execute(\"DROP TABLE IF EXISTS employee\")\n",
        "\n",
        "cur.execute(\"\"\"CREATE TABLE IF NOT EXISTS employee (\n",
        "    id INTEGER PRIMARY KEY,\n",
        "    name VARCHAR(50),\n",
        "    birth_date TIMESTAMP,\n",
        "    salary REAL\n",
        ")\"\"\")  # Removed extra comma after PRIMARY_KEY(id) and changed INT to INTEGER\n",
        "#date is yyyy-mm-dd\n",
        "cur.execute(\"SELECT name FROM sqlite_master WHERE type='table'\")  # Changed SHOW TABLES (which is not supported in SQLite)\n",
        "results = cur.fetchall()\n",
        "print(results)  # Print the results to verify table creation"
      ],
      "metadata": {
        "colab": {
          "base_uri": "https://localhost:8080/"
        },
        "id": "vNyTU-gSMPQR",
        "outputId": "48cc205c-8a3e-4d03-ff5a-b719e21e2e38"
      },
      "execution_count": 290,
      "outputs": [
        {
          "output_type": "stream",
          "name": "stdout",
          "text": [
            "[('employee',)]\n"
          ]
        }
      ]
    },
    {
      "cell_type": "code",
      "source": [
        "def insert_employee(name, birth_date, salary):\n",
        "    cur.execute(\"INSERT INTO employee (name, birth_date, salary) VALUES (?, ?, ?)\", (name, birth_date, salary))\n",
        "    con.commit()"
      ],
      "metadata": {
        "id": "ebShd9A7RljA"
      },
      "execution_count": 291,
      "outputs": []
    },
    {
      "cell_type": "code",
      "source": [
        "def populate_table():\n",
        "  cur.execute(\"\"\"INSERT INTO employee (name, birth_date, salary)\n",
        "VALUES\n",
        "    ('John Doe', '1990-05-15 00:00:00', 60000.00),\n",
        "    ('Jane Smith', '1985-10-22 00:00:00', 75000.00),\n",
        "    ('Michael Johnson', '1988-03-18 00:00:00', 90000.00),\n",
        "    ('Emily Brown', '1992-07-01 00:00:00', 55000.00),\n",
        "    ('William Lee', '1995-11-30 00:00:00', 65000.00),\n",
        "    -- Add more employees here as needed\n",
        "    ('Sophia Martinez', '1987-09-08 00:00:00', 80000.00),\n",
        "    ('Alexander Davis', '1993-02-25 00:00:00', 70000.00),\n",
        "    ('Olivia Rodriguez', '1996-06-14 00:00:00', 50000.00),\n",
        "    ('James Wilson', '1989-12-10 00:00:00', 85000.00),\n",
        "    ('Emma Garcia', '1991-04-03 00:00:00', 62000.00),\n",
        "    -- Add more employees here as needed\n",
        "    ('Ethan Taylor', '1986-08-20 00:00:00', 72000.00),\n",
        "    ('Isabella Anderson', '1994-01-17 00:00:00', 68000.00),\n",
        "    ('Daniel Thomas', '1984-11-05 00:00:00', 58000.00),\n",
        "    ('Ava Moore', '1997-03-22 00:00:00', 67000.00),\n",
        "    ('Matthew White', '1998-09-04 00:00:00', 59000.00),\n",
        "    -- Add more employees here as needed\n",
        "    ('Mia Martin', '1983-07-12 00:00:00', 72000.00),\n",
        "    ('Jackson Garcia', '1990-02-01 00:00:00', 79000.00),\n",
        "    ('Avery Wilson', '1987-06-18 00:00:00', 63000.00),\n",
        "    ('David Thompson', '1995-12-09 00:00:00', 55000.00),\n",
        "    ('Sophie Hernandez', '1989-04-28 00:00:00', 71000.00),\n",
        "    -- Add more employees here as needed\n",
        "    ('Logan Lopez', '1993-10-14 00:00:00', 68000.00),\n",
        "    ('Grace Young', '1996-03-05 00:00:00', 60000.00),\n",
        "    ('Benjamin Scott', '1984-05-25 00:00:00', 73000.00),\n",
        "    ('Lily King', '1992-11-16 00:00:00', 57000.00),\n",
        "    ('Ryan Adams', '1991-07-23 00:00:00', 69000.00),\n",
        "    -- Add more employees here as needed\n",
        "    ('Lucas Carter', '1988-01-08 00:00:00', 64000.00),\n",
        "    ('Zoe Wright', '1994-08-03 00:00:00', 66000.00),\n",
        "    ('Gabriel Thomas', '1986-12-29 00:00:00', 80000.00),\n",
        "    ('Madison Parker', '1997-09-19 00:00:00', 54000.00),\n",
        "    ('Nathan Robinson', '1985-04-07 00:00:00', 77000.00),\n",
        "    -- Add more employees here as needed\n",
        "    ('Chloe Mitchell', '1998-10-27 00:00:00', 61000.00),\n",
        "    ('Samuel Perez', '1983-02-13 00:00:00', 74000.00),\n",
        "    ('Hannah Hill', '1990-06-02 00:00:00', 59000.00),\n",
        "    ('Elijah Gonzales', '1987-12-21 00:00:00', 72000.00),\n",
        "    ('Aria Edwards', '1996-08-11 00:00:00', 68000.00),\n",
        "    -- Add more employees here as needed\n",
        "    ('Noah Flores', '1993-03-01 00:00:00', 65000.00),\n",
        "    ('Mila Cook', '1989-09-24 00:00:00', 69000.00),\n",
        "    ('Liam Stewart', '1991-01-13 00:00:00', 58000.00),\n",
        "    ('Aubrey Rivera', '1984-07-04 00:00:00', 71000.00),\n",
        "    ('Aiden Morgan', '1992-12-26 00:00:00', 62000.00),\n",
        "    -- Add more employees here as needed\n",
        "    ('Harper Bell', '1995-05-18 00:00:00', 67000.00),\n",
        "    ('Carter Coleman', '1986-11-07 00:00:00', 73000.00),\n",
        "    ('Scarlett Reed', '1994-04-25 00:00:00', 60000.00),\n",
        "    ('Jayden Cooper', '1988-10-16 00:00:00', 71000.00),\n",
        "    ('Ella Hughes', '1997-06-05 00:00:00', 56000.00);\n",
        "\"\"\")\n",
        "  con.commit()\n",
        "\n",
        "def clear_table():\n",
        "  cur.execute(\"DELETE FROM employee\")\n",
        "  con.commit()"
      ],
      "metadata": {
        "id": "ITJwzEM43XHV"
      },
      "execution_count": 292,
      "outputs": []
    },
    {
      "cell_type": "code",
      "source": [
        "clear_table()\n",
        "populate_table()"
      ],
      "metadata": {
        "id": "AQ1EazMM31gX"
      },
      "execution_count": 293,
      "outputs": []
    },
    {
      "cell_type": "code",
      "source": [
        "res = cur.execute(\"SELECT * FROM employee WHERE TRUE\")\n",
        "res.fetchall()"
      ],
      "metadata": {
        "colab": {
          "base_uri": "https://localhost:8080/"
        },
        "id": "9Ok8m4kCOEZY",
        "outputId": "4368473d-1ac5-4070-9372-8ae29a0f3322"
      },
      "execution_count": 294,
      "outputs": [
        {
          "output_type": "execute_result",
          "data": {
            "text/plain": [
              "[(1, 'John Doe', '1990-05-15 00:00:00', 60000.0),\n",
              " (2, 'Jane Smith', '1985-10-22 00:00:00', 75000.0),\n",
              " (3, 'Michael Johnson', '1988-03-18 00:00:00', 90000.0),\n",
              " (4, 'Emily Brown', '1992-07-01 00:00:00', 55000.0),\n",
              " (5, 'William Lee', '1995-11-30 00:00:00', 65000.0),\n",
              " (6, 'Sophia Martinez', '1987-09-08 00:00:00', 80000.0),\n",
              " (7, 'Alexander Davis', '1993-02-25 00:00:00', 70000.0),\n",
              " (8, 'Olivia Rodriguez', '1996-06-14 00:00:00', 50000.0),\n",
              " (9, 'James Wilson', '1989-12-10 00:00:00', 85000.0),\n",
              " (10, 'Emma Garcia', '1991-04-03 00:00:00', 62000.0),\n",
              " (11, 'Ethan Taylor', '1986-08-20 00:00:00', 72000.0),\n",
              " (12, 'Isabella Anderson', '1994-01-17 00:00:00', 68000.0),\n",
              " (13, 'Daniel Thomas', '1984-11-05 00:00:00', 58000.0),\n",
              " (14, 'Ava Moore', '1997-03-22 00:00:00', 67000.0),\n",
              " (15, 'Matthew White', '1998-09-04 00:00:00', 59000.0),\n",
              " (16, 'Mia Martin', '1983-07-12 00:00:00', 72000.0),\n",
              " (17, 'Jackson Garcia', '1990-02-01 00:00:00', 79000.0),\n",
              " (18, 'Avery Wilson', '1987-06-18 00:00:00', 63000.0),\n",
              " (19, 'David Thompson', '1995-12-09 00:00:00', 55000.0),\n",
              " (20, 'Sophie Hernandez', '1989-04-28 00:00:00', 71000.0),\n",
              " (21, 'Logan Lopez', '1993-10-14 00:00:00', 68000.0),\n",
              " (22, 'Grace Young', '1996-03-05 00:00:00', 60000.0),\n",
              " (23, 'Benjamin Scott', '1984-05-25 00:00:00', 73000.0),\n",
              " (24, 'Lily King', '1992-11-16 00:00:00', 57000.0),\n",
              " (25, 'Ryan Adams', '1991-07-23 00:00:00', 69000.0),\n",
              " (26, 'Lucas Carter', '1988-01-08 00:00:00', 64000.0),\n",
              " (27, 'Zoe Wright', '1994-08-03 00:00:00', 66000.0),\n",
              " (28, 'Gabriel Thomas', '1986-12-29 00:00:00', 80000.0),\n",
              " (29, 'Madison Parker', '1997-09-19 00:00:00', 54000.0),\n",
              " (30, 'Nathan Robinson', '1985-04-07 00:00:00', 77000.0),\n",
              " (31, 'Chloe Mitchell', '1998-10-27 00:00:00', 61000.0),\n",
              " (32, 'Samuel Perez', '1983-02-13 00:00:00', 74000.0),\n",
              " (33, 'Hannah Hill', '1990-06-02 00:00:00', 59000.0),\n",
              " (34, 'Elijah Gonzales', '1987-12-21 00:00:00', 72000.0),\n",
              " (35, 'Aria Edwards', '1996-08-11 00:00:00', 68000.0),\n",
              " (36, 'Noah Flores', '1993-03-01 00:00:00', 65000.0),\n",
              " (37, 'Mila Cook', '1989-09-24 00:00:00', 69000.0),\n",
              " (38, 'Liam Stewart', '1991-01-13 00:00:00', 58000.0),\n",
              " (39, 'Aubrey Rivera', '1984-07-04 00:00:00', 71000.0),\n",
              " (40, 'Aiden Morgan', '1992-12-26 00:00:00', 62000.0),\n",
              " (41, 'Harper Bell', '1995-05-18 00:00:00', 67000.0),\n",
              " (42, 'Carter Coleman', '1986-11-07 00:00:00', 73000.0),\n",
              " (43, 'Scarlett Reed', '1994-04-25 00:00:00', 60000.0),\n",
              " (44, 'Jayden Cooper', '1988-10-16 00:00:00', 71000.0),\n",
              " (45, 'Ella Hughes', '1997-06-05 00:00:00', 56000.0)]"
            ]
          },
          "metadata": {},
          "execution_count": 294
        }
      ]
    },
    {
      "cell_type": "code",
      "source": [
        "\n",
        "\n",
        "\n",
        "\"\"\"\n",
        "This is an agent class\n",
        "\"\"\"\n",
        "\n",
        "def list_to_string(lst):\n",
        "  result = \"\"\n",
        "  for i in range(len(lst)):\n",
        "    result += lst[i] + (\", \" if i < len(lst) - 1 else \"\")\n",
        "  return result\n",
        "\n",
        "class SQLAgent:\n",
        "  table: str = \"\"\n",
        "  columns: str = \"\"\n",
        "  co = None\n",
        "\n",
        "  def __init__(self, table):\n",
        "    self.co = cohere.Client(\"cohere_api\")\n",
        "    self.set_table(table)\n",
        "    self.set_columns()\n",
        "\n",
        "  def set_table(self, table_name):\n",
        "    self.table = table_name\n",
        "\n",
        "  def set_columns(self):\n",
        "    self.columns = self.get_columns(self.table)\n",
        "\n",
        "  def get_SQL_PROMPT_PREFIX(self) -> str:\n",
        "    return f\"These are the columns of the table '{self.table}': '{self.columns}'\"\n",
        "\n",
        "  ROLE = \"You are an SQLite Agent. You are expert of SQLite queries. You get sufficient information and promt, then you give an SQL query.\"\n",
        "\n",
        "\n",
        "  SQL_PROMPT_SUFFIX = \"\"\"\n",
        "- **ALWAYS** before giving the Final Answer, try another method.\n",
        "Then reflect on the answers of the two methods you did and ask yourself\n",
        "if it answers correctly the original question.\n",
        "If you are not sure, try another method.\n",
        "- If the methods tried do not give the same result,reflect and\n",
        "try again until you have two methods that have the same result.\n",
        "- If you still cannot arrive to a consistent result, say that\n",
        "you are not sure of the answer.\n",
        "- If you are sure of the correct answer, create a beautiful\n",
        "and thorough response using Markdown.\n",
        "- **DO NOT MAKE UP AN ANSWER OR USE PRIOR KNOWLEDGE,\n",
        "ONLY USE THE RESULTS OF THE CALCULATIONS YOU HAVE DONE**.\n",
        "- **ALWAYS**, give only and only the code as your \"Final Answer\". Do not provide any explenation or aditional punctiation or titles.\n",
        "- Your response will be executed directly in sqlite.\n",
        "- **ALWAYS**, give your answer in this format:\n",
        "```sql\n",
        "code\n",
        "```\n",
        "  \"\"\"\n",
        "  \"\"\"\n",
        "  - **ALWAYS**, as part of your \"Final Answer\", explain how you got\n",
        "  to the answer on a section that starts with: \"\\n\\nExplanation:\\n\".\n",
        "  In the explanation, mention the column names that you used to get\n",
        "  to the final answer.\n",
        "  \"\"\"\n",
        "\n",
        "\n",
        "\n",
        "  \"\"\"\n",
        "  def get_tables(self)->list[str]:\n",
        "    return []\n",
        "  def get_tables_str(self) -> str:\n",
        "    lst = self.get_tables()\n",
        "    result = \"\"\n",
        "    for i in range(len(lst)):\n",
        "      result += lst[i] + (\", \" if i < len(lst) - 1 else \"\")\n",
        "  \"\"\"\n",
        "  def get_columns(self, table_name: str) -> str:\n",
        "    query = self.generate_query(f\"get column name of the table '{self.table}'\")\n",
        "    result = cur.execute(query).fetchall()\n",
        "    result_list = [f\"{i[1]}: {i[2]}\" for i in result]\n",
        "    return list_to_string(result_list)\n",
        "\n",
        "\n",
        "  def generate_query(self, prompt: str) -> str:\n",
        "    prefix = self.get_SQL_PROMPT_PREFIX()\n",
        "    response = self.co.chat(\n",
        "\t  message= self.ROLE + prefix + prompt + self.SQL_PROMPT_SUFFIX\n",
        "    )\n",
        "    response_list = response.text.split(\"\\n\")\n",
        "    response_list = response_list[1:-1]\n",
        "    result = \"\"\n",
        "    for elem in response_list:\n",
        "      result += elem + \"\\n\"\n",
        "    print(result)\n",
        "    return result\n",
        "\n",
        "  def run_query(self, soft_query: str) -> list:\n",
        "    query = self.generate_query(soft_query)\n",
        "    result = cur.execute(query).fetchall()\n",
        "    return result\n",
        "\n",
        "\n"
      ],
      "metadata": {
        "id": "7HiMNObo8H81"
      },
      "execution_count": 295,
      "outputs": []
    },
    {
      "cell_type": "code",
      "source": [
        "agent = SQLAgent(\"employee\")"
      ],
      "metadata": {
        "colab": {
          "base_uri": "https://localhost:8080/"
        },
        "id": "GOjdJXfAELZc",
        "outputId": "867762eb-bfbc-415a-cf1a-e025cac302e9"
      },
      "execution_count": 296,
      "outputs": [
        {
          "output_type": "stream",
          "name": "stdout",
          "text": [
            "PRAGMA table_info(employee);\n",
            "\n"
          ]
        }
      ]
    },
    {
      "cell_type": "code",
      "source": [
        "print(agent.columns)\n",
        "print(agent.table)"
      ],
      "metadata": {
        "colab": {
          "base_uri": "https://localhost:8080/"
        },
        "id": "IaWCx1mEEbbz",
        "outputId": "92aa9c78-5d21-4356-848e-b292777f4b82"
      },
      "execution_count": 297,
      "outputs": [
        {
          "output_type": "stream",
          "name": "stdout",
          "text": [
            "id: INTEGER, name: VARCHAR(50), birth_date: TIMESTAMP, salary: REAL\n",
            "employee\n"
          ]
        }
      ]
    },
    {
      "cell_type": "code",
      "source": [
        "agent.run_query(\"all names of the employees\")"
      ],
      "metadata": {
        "colab": {
          "base_uri": "https://localhost:8080/"
        },
        "id": "kuuFMCoO1INT",
        "outputId": "309b7b00-0424-4641-a05f-9803be9a61fe"
      },
      "execution_count": 298,
      "outputs": [
        {
          "output_type": "stream",
          "name": "stdout",
          "text": [
            "SELECT name\n",
            "FROM employee;\n",
            "\n"
          ]
        },
        {
          "output_type": "execute_result",
          "data": {
            "text/plain": [
              "[('John Doe',),\n",
              " ('Jane Smith',),\n",
              " ('Michael Johnson',),\n",
              " ('Emily Brown',),\n",
              " ('William Lee',),\n",
              " ('Sophia Martinez',),\n",
              " ('Alexander Davis',),\n",
              " ('Olivia Rodriguez',),\n",
              " ('James Wilson',),\n",
              " ('Emma Garcia',),\n",
              " ('Ethan Taylor',),\n",
              " ('Isabella Anderson',),\n",
              " ('Daniel Thomas',),\n",
              " ('Ava Moore',),\n",
              " ('Matthew White',),\n",
              " ('Mia Martin',),\n",
              " ('Jackson Garcia',),\n",
              " ('Avery Wilson',),\n",
              " ('David Thompson',),\n",
              " ('Sophie Hernandez',),\n",
              " ('Logan Lopez',),\n",
              " ('Grace Young',),\n",
              " ('Benjamin Scott',),\n",
              " ('Lily King',),\n",
              " ('Ryan Adams',),\n",
              " ('Lucas Carter',),\n",
              " ('Zoe Wright',),\n",
              " ('Gabriel Thomas',),\n",
              " ('Madison Parker',),\n",
              " ('Nathan Robinson',),\n",
              " ('Chloe Mitchell',),\n",
              " ('Samuel Perez',),\n",
              " ('Hannah Hill',),\n",
              " ('Elijah Gonzales',),\n",
              " ('Aria Edwards',),\n",
              " ('Noah Flores',),\n",
              " ('Mila Cook',),\n",
              " ('Liam Stewart',),\n",
              " ('Aubrey Rivera',),\n",
              " ('Aiden Morgan',),\n",
              " ('Harper Bell',),\n",
              " ('Carter Coleman',),\n",
              " ('Scarlett Reed',),\n",
              " ('Jayden Cooper',),\n",
              " ('Ella Hughes',)]"
            ]
          },
          "metadata": {},
          "execution_count": 298
        }
      ]
    },
    {
      "cell_type": "code",
      "source": [
        "agent.run_query(\"the name of the employee who has the highest salary\")"
      ],
      "metadata": {
        "colab": {
          "base_uri": "https://localhost:8080/"
        },
        "id": "Aq_SiELClL4M",
        "outputId": "b4ea6878-6f32-4bf8-fd57-6ab15f439f52"
      },
      "execution_count": 299,
      "outputs": [
        {
          "output_type": "stream",
          "name": "stdout",
          "text": [
            "SELECT name\n",
            "FROM employee\n",
            "ORDER BY salary DESC\n",
            "LIMIT 1;\n",
            "\n"
          ]
        },
        {
          "output_type": "execute_result",
          "data": {
            "text/plain": [
              "[('Michael Johnson',)]"
            ]
          },
          "metadata": {},
          "execution_count": 299
        }
      ]
    },
    {
      "cell_type": "code",
      "source": [
        "agent.run_query(\"number of the employees born after 1990\")"
      ],
      "metadata": {
        "colab": {
          "base_uri": "https://localhost:8080/"
        },
        "id": "hoD5-en1gOnl",
        "outputId": "f41a6cdf-7c20-4c3e-c1ec-4e5ed558d792"
      },
      "execution_count": 300,
      "outputs": [
        {
          "output_type": "stream",
          "name": "stdout",
          "text": [
            "SELECT COUNT(*) AS \"Number of Employees Born After 1990\"\n",
            "FROM employee\n",
            "WHERE strftime('%Y', birth_date) > '1990';\n",
            "\n"
          ]
        },
        {
          "output_type": "execute_result",
          "data": {
            "text/plain": [
              "[(23,)]"
            ]
          },
          "metadata": {},
          "execution_count": 300
        }
      ]
    },
    {
      "cell_type": "code",
      "source": [
        "agent.run_query(\"the name of the employee who has the lowest salary\")"
      ],
      "metadata": {
        "colab": {
          "base_uri": "https://localhost:8080/"
        },
        "id": "gQTmSJAW4R2O",
        "outputId": "1c6ac3f3-f63d-4d52-98b4-e48ce8dc0e2e"
      },
      "execution_count": 301,
      "outputs": [
        {
          "output_type": "stream",
          "name": "stdout",
          "text": [
            "SELECT name\n",
            "FROM employee\n",
            "ORDER BY salary ASC\n",
            "LIMIT 1;\n",
            "\n"
          ]
        },
        {
          "output_type": "execute_result",
          "data": {
            "text/plain": [
              "[('Olivia Rodriguez',)]"
            ]
          },
          "metadata": {},
          "execution_count": 301
        }
      ]
    },
    {
      "cell_type": "code",
      "source": [
        "agent.run_query(\"the name and salary of the employee who has the second highest salary\")"
      ],
      "metadata": {
        "colab": {
          "base_uri": "https://localhost:8080/"
        },
        "id": "90IKTz6k4YZG",
        "outputId": "e91d0dab-62ed-467c-8bf8-abc201c19099"
      },
      "execution_count": 302,
      "outputs": [
        {
          "output_type": "stream",
          "name": "stdout",
          "text": [
            "SELECT name, salary\n",
            "FROM employee\n",
            "ORDER BY salary DESC\n",
            "LIMIT 1 OFFSET 1;\n",
            "\n"
          ]
        },
        {
          "output_type": "execute_result",
          "data": {
            "text/plain": [
              "[('James Wilson', 85000.0)]"
            ]
          },
          "metadata": {},
          "execution_count": 302
        }
      ]
    },
    {
      "cell_type": "code",
      "source": [
        "agent.run_query(\"add a new employee named james buston, born at 20 October 78, and earning 80000\")"
      ],
      "metadata": {
        "colab": {
          "base_uri": "https://localhost:8080/"
        },
        "id": "fkoFIzHV8TTl",
        "outputId": "4fcf2462-c526-4abc-c1fd-39915e2f2603"
      },
      "execution_count": 303,
      "outputs": [
        {
          "output_type": "stream",
          "name": "stdout",
          "text": [
            "INSERT INTO employee (name, birth_date, salary)\n",
            "VALUES (\"james buston\", '1978-10-20', 80000);\n",
            "\n"
          ]
        },
        {
          "output_type": "execute_result",
          "data": {
            "text/plain": [
              "[]"
            ]
          },
          "metadata": {},
          "execution_count": 303
        }
      ]
    },
    {
      "cell_type": "code",
      "source": [
        "agent.run_query(\"all information of the employee named james buston\")"
      ],
      "metadata": {
        "colab": {
          "base_uri": "https://localhost:8080/"
        },
        "id": "_kwi5Vny4dxG",
        "outputId": "2d4a9607-6737-4f0a-f61e-e7c82cd7db1c"
      },
      "execution_count": 304,
      "outputs": [
        {
          "output_type": "stream",
          "name": "stdout",
          "text": [
            "SELECT *\n",
            "FROM employee\n",
            "WHERE name = 'james buston';\n",
            "\n"
          ]
        },
        {
          "output_type": "execute_result",
          "data": {
            "text/plain": [
              "[(46, 'james buston', '1978-10-20', 80000.0)]"
            ]
          },
          "metadata": {},
          "execution_count": 304
        }
      ]
    },
    {
      "cell_type": "code",
      "source": [
        "agent.run_query(\"the name and salary of the last added employee\")"
      ],
      "metadata": {
        "colab": {
          "base_uri": "https://localhost:8080/"
        },
        "id": "ccL0mcQ-8lzl",
        "outputId": "be2e3768-8ea9-418f-eca1-028839ba896f"
      },
      "execution_count": 306,
      "outputs": [
        {
          "output_type": "stream",
          "name": "stdout",
          "text": [
            "SELECT name, salary\n",
            "FROM employee\n",
            "ORDER BY id DESC\n",
            "LIMIT 1;\n",
            "\n"
          ]
        },
        {
          "output_type": "execute_result",
          "data": {
            "text/plain": [
              "[('james buston', 80000.0)]"
            ]
          },
          "metadata": {},
          "execution_count": 306
        }
      ]
    },
    {
      "cell_type": "code",
      "source": [],
      "metadata": {
        "id": "pR4bB2B59wm1"
      },
      "execution_count": null,
      "outputs": []
    }
  ]
}