{
  "nbformat": 4,
  "nbformat_minor": 0,
  "metadata": {
    "colab": {
      "provenance": [],
      "authorship_tag": "ABX9TyM8W9BIxVaiLPI4k8v4KRI1",
      "include_colab_link": true
    },
    "kernelspec": {
      "name": "python3",
      "display_name": "Python 3"
    },
    "language_info": {
      "name": "python"
    }
  },
  "cells": [
    {
      "cell_type": "markdown",
      "metadata": {
        "id": "view-in-github",
        "colab_type": "text"
      },
      "source": [
        "<a href=\"https://colab.research.google.com/github/mdeniz20/NLP-0/blob/main/ai_2.ipynb\" target=\"_parent\"><img src=\"https://colab.research.google.com/assets/colab-badge.svg\" alt=\"Open In Colab\"/></a>"
      ]
    },
    {
      "cell_type": "code",
      "execution_count": 98,
      "metadata": {
        "id": "3gSzAPQY8teX",
        "colab": {
          "base_uri": "https://localhost:8080/"
        },
        "outputId": "05fa2427-5a7f-41a0-e578-333b76e21c88",
        "collapsed": true
      },
      "outputs": [
        {
          "output_type": "stream",
          "name": "stdout",
          "text": [
            "Requirement already satisfied: langchain_google_firestore in /usr/local/lib/python3.10/dist-packages (0.3.0)\n",
            "Requirement already satisfied: langchain-core<1.0.0,>=0.1.1 in /usr/local/lib/python3.10/dist-packages (from langchain_google_firestore) (0.2.22)\n",
            "Requirement already satisfied: langchain-community<1.0.0,>=0.0.18 in /usr/local/lib/python3.10/dist-packages (from langchain_google_firestore) (0.2.9)\n",
            "Requirement already satisfied: google-cloud-firestore<3.0.0,>=2.16.0 in /usr/local/lib/python3.10/dist-packages (from langchain_google_firestore) (2.16.1)\n",
            "Requirement already satisfied: more-itertools<11.0.0,>=10.2.0 in /usr/local/lib/python3.10/dist-packages (from langchain_google_firestore) (10.3.0)\n",
            "Requirement already satisfied: google-api-core[grpc]!=2.0.*,!=2.1.*,!=2.10.*,!=2.2.*,!=2.3.*,!=2.4.*,!=2.5.*,!=2.6.*,!=2.7.*,!=2.8.*,!=2.9.*,<3.0.0dev,>=1.34.0 in /usr/local/lib/python3.10/dist-packages (from google-cloud-firestore<3.0.0,>=2.16.0->langchain_google_firestore) (2.19.1)\n",
            "Requirement already satisfied: google-auth!=2.24.0,!=2.25.0,<3.0.0dev,>=2.14.1 in /usr/local/lib/python3.10/dist-packages (from google-cloud-firestore<3.0.0,>=2.16.0->langchain_google_firestore) (2.27.0)\n",
            "Requirement already satisfied: google-cloud-core<3.0.0dev,>=1.4.1 in /usr/local/lib/python3.10/dist-packages (from google-cloud-firestore<3.0.0,>=2.16.0->langchain_google_firestore) (2.4.1)\n",
            "Requirement already satisfied: proto-plus<2.0.0dev,>=1.22.0 in /usr/local/lib/python3.10/dist-packages (from google-cloud-firestore<3.0.0,>=2.16.0->langchain_google_firestore) (1.24.0)\n",
            "Requirement already satisfied: protobuf!=3.20.0,!=3.20.1,!=4.21.0,!=4.21.1,!=4.21.2,!=4.21.3,!=4.21.4,!=4.21.5,<5.0.0dev,>=3.19.5 in /usr/local/lib/python3.10/dist-packages (from google-cloud-firestore<3.0.0,>=2.16.0->langchain_google_firestore) (3.20.3)\n",
            "Requirement already satisfied: PyYAML>=5.3 in /usr/local/lib/python3.10/dist-packages (from langchain-community<1.0.0,>=0.0.18->langchain_google_firestore) (6.0.1)\n",
            "Requirement already satisfied: SQLAlchemy<3,>=1.4 in /usr/local/lib/python3.10/dist-packages (from langchain-community<1.0.0,>=0.0.18->langchain_google_firestore) (2.0.31)\n",
            "Requirement already satisfied: aiohttp<4.0.0,>=3.8.3 in /usr/local/lib/python3.10/dist-packages (from langchain-community<1.0.0,>=0.0.18->langchain_google_firestore) (3.9.5)\n",
            "Requirement already satisfied: dataclasses-json<0.7,>=0.5.7 in /usr/local/lib/python3.10/dist-packages (from langchain-community<1.0.0,>=0.0.18->langchain_google_firestore) (0.6.7)\n",
            "Requirement already satisfied: langchain<0.3.0,>=0.2.9 in /usr/local/lib/python3.10/dist-packages (from langchain-community<1.0.0,>=0.0.18->langchain_google_firestore) (0.2.10)\n",
            "Requirement already satisfied: langsmith<0.2.0,>=0.1.0 in /usr/local/lib/python3.10/dist-packages (from langchain-community<1.0.0,>=0.0.18->langchain_google_firestore) (0.1.93)\n",
            "Requirement already satisfied: numpy<2,>=1 in /usr/local/lib/python3.10/dist-packages (from langchain-community<1.0.0,>=0.0.18->langchain_google_firestore) (1.25.2)\n",
            "Requirement already satisfied: requests<3,>=2 in /usr/local/lib/python3.10/dist-packages (from langchain-community<1.0.0,>=0.0.18->langchain_google_firestore) (2.31.0)\n",
            "Requirement already satisfied: tenacity!=8.4.0,<9.0.0,>=8.1.0 in /usr/local/lib/python3.10/dist-packages (from langchain-community<1.0.0,>=0.0.18->langchain_google_firestore) (8.5.0)\n",
            "Requirement already satisfied: jsonpatch<2.0,>=1.33 in /usr/local/lib/python3.10/dist-packages (from langchain-core<1.0.0,>=0.1.1->langchain_google_firestore) (1.33)\n",
            "Requirement already satisfied: packaging<25,>=23.2 in /usr/local/lib/python3.10/dist-packages (from langchain-core<1.0.0,>=0.1.1->langchain_google_firestore) (24.1)\n",
            "Requirement already satisfied: pydantic<3,>=1 in /usr/local/lib/python3.10/dist-packages (from langchain-core<1.0.0,>=0.1.1->langchain_google_firestore) (2.8.2)\n",
            "Requirement already satisfied: aiosignal>=1.1.2 in /usr/local/lib/python3.10/dist-packages (from aiohttp<4.0.0,>=3.8.3->langchain-community<1.0.0,>=0.0.18->langchain_google_firestore) (1.3.1)\n",
            "Requirement already satisfied: attrs>=17.3.0 in /usr/local/lib/python3.10/dist-packages (from aiohttp<4.0.0,>=3.8.3->langchain-community<1.0.0,>=0.0.18->langchain_google_firestore) (23.2.0)\n",
            "Requirement already satisfied: frozenlist>=1.1.1 in /usr/local/lib/python3.10/dist-packages (from aiohttp<4.0.0,>=3.8.3->langchain-community<1.0.0,>=0.0.18->langchain_google_firestore) (1.4.1)\n",
            "Requirement already satisfied: multidict<7.0,>=4.5 in /usr/local/lib/python3.10/dist-packages (from aiohttp<4.0.0,>=3.8.3->langchain-community<1.0.0,>=0.0.18->langchain_google_firestore) (6.0.5)\n",
            "Requirement already satisfied: yarl<2.0,>=1.0 in /usr/local/lib/python3.10/dist-packages (from aiohttp<4.0.0,>=3.8.3->langchain-community<1.0.0,>=0.0.18->langchain_google_firestore) (1.9.4)\n",
            "Requirement already satisfied: async-timeout<5.0,>=4.0 in /usr/local/lib/python3.10/dist-packages (from aiohttp<4.0.0,>=3.8.3->langchain-community<1.0.0,>=0.0.18->langchain_google_firestore) (4.0.3)\n",
            "Requirement already satisfied: marshmallow<4.0.0,>=3.18.0 in /usr/local/lib/python3.10/dist-packages (from dataclasses-json<0.7,>=0.5.7->langchain-community<1.0.0,>=0.0.18->langchain_google_firestore) (3.21.3)\n",
            "Requirement already satisfied: typing-inspect<1,>=0.4.0 in /usr/local/lib/python3.10/dist-packages (from dataclasses-json<0.7,>=0.5.7->langchain-community<1.0.0,>=0.0.18->langchain_google_firestore) (0.9.0)\n",
            "Requirement already satisfied: googleapis-common-protos<2.0.dev0,>=1.56.2 in /usr/local/lib/python3.10/dist-packages (from google-api-core[grpc]!=2.0.*,!=2.1.*,!=2.10.*,!=2.2.*,!=2.3.*,!=2.4.*,!=2.5.*,!=2.6.*,!=2.7.*,!=2.8.*,!=2.9.*,<3.0.0dev,>=1.34.0->google-cloud-firestore<3.0.0,>=2.16.0->langchain_google_firestore) (1.63.2)\n",
            "Requirement already satisfied: grpcio<2.0dev,>=1.33.2 in /usr/local/lib/python3.10/dist-packages (from google-api-core[grpc]!=2.0.*,!=2.1.*,!=2.10.*,!=2.2.*,!=2.3.*,!=2.4.*,!=2.5.*,!=2.6.*,!=2.7.*,!=2.8.*,!=2.9.*,<3.0.0dev,>=1.34.0->google-cloud-firestore<3.0.0,>=2.16.0->langchain_google_firestore) (1.64.1)\n",
            "Requirement already satisfied: grpcio-status<2.0.dev0,>=1.33.2 in /usr/local/lib/python3.10/dist-packages (from google-api-core[grpc]!=2.0.*,!=2.1.*,!=2.10.*,!=2.2.*,!=2.3.*,!=2.4.*,!=2.5.*,!=2.6.*,!=2.7.*,!=2.8.*,!=2.9.*,<3.0.0dev,>=1.34.0->google-cloud-firestore<3.0.0,>=2.16.0->langchain_google_firestore) (1.48.2)\n",
            "Requirement already satisfied: cachetools<6.0,>=2.0.0 in /usr/local/lib/python3.10/dist-packages (from google-auth!=2.24.0,!=2.25.0,<3.0.0dev,>=2.14.1->google-cloud-firestore<3.0.0,>=2.16.0->langchain_google_firestore) (5.4.0)\n",
            "Requirement already satisfied: pyasn1-modules>=0.2.1 in /usr/local/lib/python3.10/dist-packages (from google-auth!=2.24.0,!=2.25.0,<3.0.0dev,>=2.14.1->google-cloud-firestore<3.0.0,>=2.16.0->langchain_google_firestore) (0.4.0)\n",
            "Requirement already satisfied: rsa<5,>=3.1.4 in /usr/local/lib/python3.10/dist-packages (from google-auth!=2.24.0,!=2.25.0,<3.0.0dev,>=2.14.1->google-cloud-firestore<3.0.0,>=2.16.0->langchain_google_firestore) (4.9)\n",
            "Requirement already satisfied: jsonpointer>=1.9 in /usr/local/lib/python3.10/dist-packages (from jsonpatch<2.0,>=1.33->langchain-core<1.0.0,>=0.1.1->langchain_google_firestore) (3.0.0)\n",
            "Requirement already satisfied: langchain-text-splitters<0.3.0,>=0.2.0 in /usr/local/lib/python3.10/dist-packages (from langchain<0.3.0,>=0.2.9->langchain-community<1.0.0,>=0.0.18->langchain_google_firestore) (0.2.2)\n",
            "Requirement already satisfied: orjson<4.0.0,>=3.9.14 in /usr/local/lib/python3.10/dist-packages (from langsmith<0.2.0,>=0.1.0->langchain-community<1.0.0,>=0.0.18->langchain_google_firestore) (3.10.6)\n",
            "Requirement already satisfied: annotated-types>=0.4.0 in /usr/local/lib/python3.10/dist-packages (from pydantic<3,>=1->langchain-core<1.0.0,>=0.1.1->langchain_google_firestore) (0.7.0)\n",
            "Requirement already satisfied: pydantic-core==2.20.1 in /usr/local/lib/python3.10/dist-packages (from pydantic<3,>=1->langchain-core<1.0.0,>=0.1.1->langchain_google_firestore) (2.20.1)\n",
            "Requirement already satisfied: typing-extensions>=4.6.1 in /usr/local/lib/python3.10/dist-packages (from pydantic<3,>=1->langchain-core<1.0.0,>=0.1.1->langchain_google_firestore) (4.12.2)\n",
            "Requirement already satisfied: charset-normalizer<4,>=2 in /usr/local/lib/python3.10/dist-packages (from requests<3,>=2->langchain-community<1.0.0,>=0.0.18->langchain_google_firestore) (3.3.2)\n",
            "Requirement already satisfied: idna<4,>=2.5 in /usr/local/lib/python3.10/dist-packages (from requests<3,>=2->langchain-community<1.0.0,>=0.0.18->langchain_google_firestore) (3.7)\n",
            "Requirement already satisfied: urllib3<3,>=1.21.1 in /usr/local/lib/python3.10/dist-packages (from requests<3,>=2->langchain-community<1.0.0,>=0.0.18->langchain_google_firestore) (2.0.7)\n",
            "Requirement already satisfied: certifi>=2017.4.17 in /usr/local/lib/python3.10/dist-packages (from requests<3,>=2->langchain-community<1.0.0,>=0.0.18->langchain_google_firestore) (2024.7.4)\n",
            "Requirement already satisfied: greenlet!=0.4.17 in /usr/local/lib/python3.10/dist-packages (from SQLAlchemy<3,>=1.4->langchain-community<1.0.0,>=0.0.18->langchain_google_firestore) (3.0.3)\n",
            "Requirement already satisfied: pyasn1<0.7.0,>=0.4.6 in /usr/local/lib/python3.10/dist-packages (from pyasn1-modules>=0.2.1->google-auth!=2.24.0,!=2.25.0,<3.0.0dev,>=2.14.1->google-cloud-firestore<3.0.0,>=2.16.0->langchain_google_firestore) (0.6.0)\n",
            "Requirement already satisfied: mypy-extensions>=0.3.0 in /usr/local/lib/python3.10/dist-packages (from typing-inspect<1,>=0.4.0->dataclasses-json<0.7,>=0.5.7->langchain-community<1.0.0,>=0.0.18->langchain_google_firestore) (1.0.0)\n",
            "Collecting google.cloud\n",
            "  Downloading google_cloud-0.34.0-py2.py3-none-any.whl (1.8 kB)\n",
            "Installing collected packages: google.cloud\n",
            "Successfully installed google.cloud-0.34.0\n"
          ]
        }
      ],
      "source": [
        "#!pip install -U langchain-cohere\n",
        "#!pip install langchain_google_firestore\n",
        "#!pip install google.cloud"
      ]
    },
    {
      "cell_type": "code",
      "source": [
        "import getpass\n",
        "import os\n",
        "from langchain_cohere import ChatCohere\n",
        "from langchain_core.messages import HumanMessage, AIMessage, SystemMessage\n",
        "from langchain.prompts import ChatPromptTemplate\n",
        "from langchain.schema.output_parser import StrOutputParser\n",
        "#from langchain_google_firestore import FirestoreChatMessageHistory\n",
        "#from google.cloud import firestore"
      ],
      "metadata": {
        "id": "1U54dK0AAHok"
      },
      "execution_count": 161,
      "outputs": []
    },
    {
      "cell_type": "code",
      "source": [
        "class Conversation:\n",
        "  __messages = []\n",
        "  __chat = None\n",
        "  def __init__(self, *, api_key: str = \"\", model: str = \"command-light\", system_message: str = \"\"):\n",
        "    if system_message:\n",
        "      self.__add_message(SystemMessage(content=system_message))\n",
        "    if api_key:\n",
        "      os.environ[\"COHERE_API_KEY\"] = api_key\n",
        "    else:\n",
        "      os.environ[\"COHERE_API_KEY\"] = getpass.getpass()\n",
        "\n",
        "    self.__chat = ChatCohere(model=model)\n",
        "\n",
        "  def set_model(self, model: str) -> None:\n",
        "    self.__chat = ChatCohere(model=model)\n",
        "  def get_model(self) -> str:\n",
        "    return self.__chat.model\n",
        "\n",
        "  def __add_message(self, message) -> None:\n",
        "    self.__messages.append(message)\n",
        "\n",
        "  def add_message(self, message) -> None:\n",
        "    self.__add_message(message)\n",
        "  def get_messages(self):\n",
        "    return self.__messages\n",
        "\n",
        "  def invoke_chat(self, message) -> str:\n",
        "    self.__add_message(HumanMessage(content=message))\n",
        "    response = self.__chat.invoke(self.__messages)\n",
        "    self.__add_message(AIMessage(content=response.content))\n",
        "    return response\n",
        "  def fast_chat(self, message:str) -> str:\n",
        "    response = self.__chat.invoke(message)\n",
        "    return response.content\n",
        "\n",
        "  def chat(self, messages) -> str:\n",
        "    response = self.__chat.invoke(messages)\n",
        "    return response | StrOutputParser()"
      ],
      "metadata": {
        "id": "CIqlV774CuCL"
      },
      "execution_count": 169,
      "outputs": []
    },
    {
      "cell_type": "code",
      "source": [
        "class Humor(Conversation):\n",
        "  def __init__(self, *, api_key: str = \"\", model: str = \"command-light\", system_message: str = \"\"):\n",
        "    super().__init__(api_key=api_key, model=model, system_message=system_message)\n",
        "\n",
        "  def add_message(self, message) -> None:\n",
        "    super().add_message(message)\n",
        "\n",
        "  def invoke_chat(self, inputs) -> str:\n",
        "    message = (\"system\", \"You are a comedian who tells jokes about {topic}\")\n",
        "    self.add_message(message)\n",
        "    message = (\"human\", \"Tell me {joke_count} jokes\")\n",
        "    self.add_message(message)\n",
        "    prompt_template = ChatPromptTemplate.from_messages(super().get_messages())\n",
        "    prompt = prompt_template.invoke({\"topic\": inputs[\"topic\"], \"joke_count\": inputs[\"joke_count\"]})\n",
        "    print(prompt)\n",
        "    response = super().__chat.invoke(prompt)\n",
        "    return response.content"
      ],
      "metadata": {
        "id": "7tAj9YUGmDCD"
      },
      "execution_count": 163,
      "outputs": []
    },
    {
      "cell_type": "code",
      "source": [
        "class Chain:\n",
        "  __messages = []\n",
        "  __model = None\n",
        "  __chain = None\n",
        "  def __init__(self, *, api_key: str = \"\", model: str = \"command-light\", system_message: str = \"\"):\n",
        "    if system_message:\n",
        "      self.__add_message(SystemMessage(content=system_message))\n",
        "    if api_key:\n",
        "      os.environ[\"COHERE_API_KEY\"] = api_key\n",
        "    else:\n",
        "      os.environ[\"COHERE_API_KEY\"] = getpass.getpass()\n",
        "\n",
        "    self.__model = ChatCohere(model=model)\n",
        "    self.__chain = ChatPromptTemplate().from_messages([]) | self.__model | StrOutputParser()\n",
        "\n",
        "  def __add_message(self, message) -> None:\n",
        "    self.__messages.append(message)\n",
        "\n",
        "  def chat(self, message) -> str:\n",
        "    self.__add_message(message)\n",
        "    response = self.__chain.invoke(self.__messages)\n",
        "    self.__add_message(response)\n",
        "    return response"
      ],
      "metadata": {
        "id": "g6MJxp-J4hPd"
      },
      "execution_count": 178,
      "outputs": []
    },
    {
      "cell_type": "code",
      "source": [
        "chn = Chain(model = \"command-r-plus\", system_message = \"You are a powerfull ai assistant to assist this companies employees. Your name is BasilGPT and you always intoduce yourself at the beginning.\")"
      ],
      "metadata": {
        "colab": {
          "base_uri": "https://localhost:8080/",
          "height": 370
        },
        "id": "UTb8sq39A6b7",
        "outputId": "33dbc164-e6aa-4cca-e244-88d4fe400df4"
      },
      "execution_count": 179,
      "outputs": [
        {
          "name": "stdout",
          "output_type": "stream",
          "text": [
            "··········\n"
          ]
        },
        {
          "output_type": "error",
          "ename": "KeyError",
          "evalue": "'messages'",
          "traceback": [
            "\u001b[0;31m---------------------------------------------------------------------------\u001b[0m",
            "\u001b[0;31mKeyError\u001b[0m                                  Traceback (most recent call last)",
            "\u001b[0;32m<ipython-input-179-e2932f600751>\u001b[0m in \u001b[0;36m<cell line: 1>\u001b[0;34m()\u001b[0m\n\u001b[0;32m----> 1\u001b[0;31m \u001b[0mchn\u001b[0m \u001b[0;34m=\u001b[0m \u001b[0mChain\u001b[0m\u001b[0;34m(\u001b[0m\u001b[0mmodel\u001b[0m \u001b[0;34m=\u001b[0m \u001b[0;34m\"command-r-plus\"\u001b[0m\u001b[0;34m,\u001b[0m \u001b[0msystem_message\u001b[0m \u001b[0;34m=\u001b[0m \u001b[0;34m\"You are a powerfull ai assistant to assist this companies employees. Your name is BasilGPT and you always intoduce yourself at the beginning.\"\u001b[0m\u001b[0;34m)\u001b[0m\u001b[0;34m\u001b[0m\u001b[0;34m\u001b[0m\u001b[0m\n\u001b[0m",
            "\u001b[0;32m<ipython-input-178-997d182b8c12>\u001b[0m in \u001b[0;36m__init__\u001b[0;34m(self, api_key, model, system_message)\u001b[0m\n\u001b[1;32m     12\u001b[0m \u001b[0;34m\u001b[0m\u001b[0m\n\u001b[1;32m     13\u001b[0m     \u001b[0mself\u001b[0m\u001b[0;34m.\u001b[0m\u001b[0m__model\u001b[0m \u001b[0;34m=\u001b[0m \u001b[0mChatCohere\u001b[0m\u001b[0;34m(\u001b[0m\u001b[0mmodel\u001b[0m\u001b[0;34m=\u001b[0m\u001b[0mmodel\u001b[0m\u001b[0;34m)\u001b[0m\u001b[0;34m\u001b[0m\u001b[0;34m\u001b[0m\u001b[0m\n\u001b[0;32m---> 14\u001b[0;31m     \u001b[0mself\u001b[0m\u001b[0;34m.\u001b[0m\u001b[0m__chain\u001b[0m \u001b[0;34m=\u001b[0m \u001b[0mChatPromptTemplate\u001b[0m\u001b[0;34m(\u001b[0m\u001b[0;34m)\u001b[0m\u001b[0;34m.\u001b[0m\u001b[0mfrom_messages\u001b[0m\u001b[0;34m(\u001b[0m\u001b[0;34m[\u001b[0m\u001b[0;34m]\u001b[0m\u001b[0;34m)\u001b[0m \u001b[0;34m|\u001b[0m \u001b[0mself\u001b[0m\u001b[0;34m.\u001b[0m\u001b[0m__model\u001b[0m \u001b[0;34m|\u001b[0m \u001b[0mStrOutputParser\u001b[0m\u001b[0;34m(\u001b[0m\u001b[0;34m)\u001b[0m\u001b[0;34m\u001b[0m\u001b[0;34m\u001b[0m\u001b[0m\n\u001b[0m\u001b[1;32m     15\u001b[0m \u001b[0;34m\u001b[0m\u001b[0m\n\u001b[1;32m     16\u001b[0m   \u001b[0;32mdef\u001b[0m \u001b[0m__add_message\u001b[0m\u001b[0;34m(\u001b[0m\u001b[0mself\u001b[0m\u001b[0;34m,\u001b[0m \u001b[0mmessage\u001b[0m\u001b[0;34m)\u001b[0m \u001b[0;34m->\u001b[0m \u001b[0;32mNone\u001b[0m\u001b[0;34m:\u001b[0m\u001b[0;34m\u001b[0m\u001b[0;34m\u001b[0m\u001b[0m\n",
            "\u001b[0;32m/usr/local/lib/python3.10/dist-packages/pydantic/v1/main.py\u001b[0m in \u001b[0;36m__init__\u001b[0;34m(__pydantic_self__, **data)\u001b[0m\n\u001b[1;32m    337\u001b[0m         \"\"\"\n\u001b[1;32m    338\u001b[0m         \u001b[0;31m# Uses something other than `self` the first arg to allow \"self\" as a settable attribute\u001b[0m\u001b[0;34m\u001b[0m\u001b[0;34m\u001b[0m\u001b[0m\n\u001b[0;32m--> 339\u001b[0;31m         \u001b[0mvalues\u001b[0m\u001b[0;34m,\u001b[0m \u001b[0mfields_set\u001b[0m\u001b[0;34m,\u001b[0m \u001b[0mvalidation_error\u001b[0m \u001b[0;34m=\u001b[0m \u001b[0mvalidate_model\u001b[0m\u001b[0;34m(\u001b[0m\u001b[0m__pydantic_self__\u001b[0m\u001b[0;34m.\u001b[0m\u001b[0m__class__\u001b[0m\u001b[0;34m,\u001b[0m \u001b[0mdata\u001b[0m\u001b[0;34m)\u001b[0m\u001b[0;34m\u001b[0m\u001b[0;34m\u001b[0m\u001b[0m\n\u001b[0m\u001b[1;32m    340\u001b[0m         \u001b[0;32mif\u001b[0m \u001b[0mvalidation_error\u001b[0m\u001b[0;34m:\u001b[0m\u001b[0;34m\u001b[0m\u001b[0;34m\u001b[0m\u001b[0m\n\u001b[1;32m    341\u001b[0m             \u001b[0;32mraise\u001b[0m \u001b[0mvalidation_error\u001b[0m\u001b[0;34m\u001b[0m\u001b[0;34m\u001b[0m\u001b[0m\n",
            "\u001b[0;32m/usr/local/lib/python3.10/dist-packages/pydantic/v1/main.py\u001b[0m in \u001b[0;36mvalidate_model\u001b[0;34m(model, input_data, cls)\u001b[0m\n\u001b[1;32m   1046\u001b[0m     \u001b[0;32mfor\u001b[0m \u001b[0mvalidator\u001b[0m \u001b[0;32min\u001b[0m \u001b[0mmodel\u001b[0m\u001b[0;34m.\u001b[0m\u001b[0m__pre_root_validators__\u001b[0m\u001b[0;34m:\u001b[0m\u001b[0;34m\u001b[0m\u001b[0;34m\u001b[0m\u001b[0m\n\u001b[1;32m   1047\u001b[0m         \u001b[0;32mtry\u001b[0m\u001b[0;34m:\u001b[0m\u001b[0;34m\u001b[0m\u001b[0;34m\u001b[0m\u001b[0m\n\u001b[0;32m-> 1048\u001b[0;31m             \u001b[0minput_data\u001b[0m \u001b[0;34m=\u001b[0m \u001b[0mvalidator\u001b[0m\u001b[0;34m(\u001b[0m\u001b[0mcls_\u001b[0m\u001b[0;34m,\u001b[0m \u001b[0minput_data\u001b[0m\u001b[0;34m)\u001b[0m\u001b[0;34m\u001b[0m\u001b[0;34m\u001b[0m\u001b[0m\n\u001b[0m\u001b[1;32m   1049\u001b[0m         \u001b[0;32mexcept\u001b[0m \u001b[0;34m(\u001b[0m\u001b[0mValueError\u001b[0m\u001b[0;34m,\u001b[0m \u001b[0mTypeError\u001b[0m\u001b[0;34m,\u001b[0m \u001b[0mAssertionError\u001b[0m\u001b[0;34m)\u001b[0m \u001b[0;32mas\u001b[0m \u001b[0mexc\u001b[0m\u001b[0;34m:\u001b[0m\u001b[0;34m\u001b[0m\u001b[0;34m\u001b[0m\u001b[0m\n\u001b[1;32m   1050\u001b[0m             \u001b[0;32mreturn\u001b[0m \u001b[0;34m{\u001b[0m\u001b[0;34m}\u001b[0m\u001b[0;34m,\u001b[0m \u001b[0mset\u001b[0m\u001b[0;34m(\u001b[0m\u001b[0;34m)\u001b[0m\u001b[0;34m,\u001b[0m \u001b[0mValidationError\u001b[0m\u001b[0;34m(\u001b[0m\u001b[0;34m[\u001b[0m\u001b[0mErrorWrapper\u001b[0m\u001b[0;34m(\u001b[0m\u001b[0mexc\u001b[0m\u001b[0;34m,\u001b[0m \u001b[0mloc\u001b[0m\u001b[0;34m=\u001b[0m\u001b[0mROOT_KEY\u001b[0m\u001b[0;34m)\u001b[0m\u001b[0;34m]\u001b[0m\u001b[0;34m,\u001b[0m \u001b[0mcls_\u001b[0m\u001b[0;34m)\u001b[0m\u001b[0;34m\u001b[0m\u001b[0;34m\u001b[0m\u001b[0m\n",
            "\u001b[0;32m/usr/local/lib/python3.10/dist-packages/langchain_core/prompts/chat.py\u001b[0m in \u001b[0;36mvalidate_input_variables\u001b[0;34m(cls, values)\u001b[0m\n\u001b[1;32m    968\u001b[0m             \u001b[0mValueError\u001b[0m\u001b[0;34m:\u001b[0m \u001b[0mIf\u001b[0m \u001b[0minput\u001b[0m \u001b[0mvariables\u001b[0m \u001b[0mdo\u001b[0m \u001b[0;32mnot\u001b[0m \u001b[0mmatch\u001b[0m\u001b[0;34m.\u001b[0m\u001b[0;34m\u001b[0m\u001b[0;34m\u001b[0m\u001b[0m\n\u001b[1;32m    969\u001b[0m         \"\"\"\n\u001b[0;32m--> 970\u001b[0;31m         \u001b[0mmessages\u001b[0m \u001b[0;34m=\u001b[0m \u001b[0mvalues\u001b[0m\u001b[0;34m[\u001b[0m\u001b[0;34m\"messages\"\u001b[0m\u001b[0;34m]\u001b[0m\u001b[0;34m\u001b[0m\u001b[0;34m\u001b[0m\u001b[0m\n\u001b[0m\u001b[1;32m    971\u001b[0m         \u001b[0minput_vars\u001b[0m \u001b[0;34m=\u001b[0m \u001b[0mset\u001b[0m\u001b[0;34m(\u001b[0m\u001b[0;34m)\u001b[0m\u001b[0;34m\u001b[0m\u001b[0;34m\u001b[0m\u001b[0m\n\u001b[1;32m    972\u001b[0m         \u001b[0moptional_variables\u001b[0m \u001b[0;34m=\u001b[0m \u001b[0mset\u001b[0m\u001b[0;34m(\u001b[0m\u001b[0;34m)\u001b[0m\u001b[0;34m\u001b[0m\u001b[0;34m\u001b[0m\u001b[0m\n",
            "\u001b[0;31mKeyError\u001b[0m: 'messages'"
          ]
        }
      ]
    },
    {
      "cell_type": "code",
      "source": [
        "ai.invoke_chat(\"what is the wheather like today?\")"
      ],
      "metadata": {
        "id": "YKn40BIORW6n",
        "outputId": "05d63909-438d-414e-d52c-3a3457d8ec67",
        "colab": {
          "base_uri": "https://localhost:8080/"
        }
      },
      "execution_count": 167,
      "outputs": [
        {
          "output_type": "execute_result",
          "data": {
            "text/plain": [
              "AIMessage(content=\"Hello, I'm BasilGPT! I can help you with any questions or tasks you have related to your work. \\n\\nAs for the weather, could you please provide me with your location so that I can give you a precise forecast?\", additional_kwargs={'documents': None, 'citations': None, 'search_results': None, 'search_queries': None, 'is_search_required': None, 'generation_id': '23e4ef97-cd20-4ccb-beea-e00667f60912', 'token_count': {'input_tokens': 149, 'output_tokens': 48}}, response_metadata={'documents': None, 'citations': None, 'search_results': None, 'search_queries': None, 'is_search_required': None, 'generation_id': '23e4ef97-cd20-4ccb-beea-e00667f60912', 'token_count': {'input_tokens': 149, 'output_tokens': 48}}, id='run-923d91ee-c831-48fa-9ac3-5e3299fe52a0-0', usage_metadata={'input_tokens': 149, 'output_tokens': 48, 'total_tokens': 197})"
            ]
          },
          "metadata": {},
          "execution_count": 167
        }
      ]
    },
    {
      "cell_type": "code",
      "source": [
        "ai.chat(\"Can you tell 3 jokes about lawyers?\")"
      ],
      "metadata": {
        "id": "F2mZlDdF3vsC",
        "outputId": "7719c5c8-ec39-4cc0-8eba-00fe79ba3253",
        "colab": {
          "base_uri": "https://localhost:8080/",
          "height": 333
        }
      },
      "execution_count": 171,
      "outputs": [
        {
          "output_type": "error",
          "ename": "TypeError",
          "evalue": "Expected a Runnable, callable or dict.Instead got an unsupported type: <class 'langchain_core.messages.ai.AIMessage'>",
          "traceback": [
            "\u001b[0;31m---------------------------------------------------------------------------\u001b[0m",
            "\u001b[0;31mTypeError\u001b[0m                                 Traceback (most recent call last)",
            "\u001b[0;32m<ipython-input-171-7b1c5a769309>\u001b[0m in \u001b[0;36m<cell line: 1>\u001b[0;34m()\u001b[0m\n\u001b[0;32m----> 1\u001b[0;31m \u001b[0mai\u001b[0m\u001b[0;34m.\u001b[0m\u001b[0mchat\u001b[0m\u001b[0;34m(\u001b[0m\u001b[0;34m\"Can you tell 3 jokes about lawyers?\"\u001b[0m\u001b[0;34m)\u001b[0m\u001b[0;34m\u001b[0m\u001b[0;34m\u001b[0m\u001b[0m\n\u001b[0m",
            "\u001b[0;32m<ipython-input-169-437e57007b92>\u001b[0m in \u001b[0;36mchat\u001b[0;34m(self, messages)\u001b[0m\n\u001b[1;32m     36\u001b[0m   \u001b[0;32mdef\u001b[0m \u001b[0mchat\u001b[0m\u001b[0;34m(\u001b[0m\u001b[0mself\u001b[0m\u001b[0;34m,\u001b[0m \u001b[0mmessages\u001b[0m\u001b[0;34m)\u001b[0m \u001b[0;34m->\u001b[0m \u001b[0mstr\u001b[0m\u001b[0;34m:\u001b[0m\u001b[0;34m\u001b[0m\u001b[0;34m\u001b[0m\u001b[0m\n\u001b[1;32m     37\u001b[0m     \u001b[0mresponse\u001b[0m \u001b[0;34m=\u001b[0m \u001b[0mself\u001b[0m\u001b[0;34m.\u001b[0m\u001b[0m__chat\u001b[0m\u001b[0;34m.\u001b[0m\u001b[0minvoke\u001b[0m\u001b[0;34m(\u001b[0m\u001b[0mmessages\u001b[0m\u001b[0;34m)\u001b[0m\u001b[0;34m\u001b[0m\u001b[0;34m\u001b[0m\u001b[0m\n\u001b[0;32m---> 38\u001b[0;31m     \u001b[0;32mreturn\u001b[0m \u001b[0mresponse\u001b[0m \u001b[0;34m|\u001b[0m \u001b[0mStrOutputParser\u001b[0m\u001b[0;34m(\u001b[0m\u001b[0;34m)\u001b[0m\u001b[0;34m\u001b[0m\u001b[0;34m\u001b[0m\u001b[0m\n\u001b[0m",
            "\u001b[0;32m/usr/local/lib/python3.10/dist-packages/langchain_core/runnables/base.py\u001b[0m in \u001b[0;36m__ror__\u001b[0;34m(self, other)\u001b[0m\n\u001b[1;32m    444\u001b[0m     ) -> RunnableSerializable[Other, Output]:\n\u001b[1;32m    445\u001b[0m         \u001b[0;34m\"\"\"Compose this Runnable with another object to create a RunnableSequence.\"\"\"\u001b[0m\u001b[0;34m\u001b[0m\u001b[0;34m\u001b[0m\u001b[0m\n\u001b[0;32m--> 446\u001b[0;31m         \u001b[0;32mreturn\u001b[0m \u001b[0mRunnableSequence\u001b[0m\u001b[0;34m(\u001b[0m\u001b[0mcoerce_to_runnable\u001b[0m\u001b[0;34m(\u001b[0m\u001b[0mother\u001b[0m\u001b[0;34m)\u001b[0m\u001b[0;34m,\u001b[0m \u001b[0mself\u001b[0m\u001b[0;34m)\u001b[0m\u001b[0;34m\u001b[0m\u001b[0;34m\u001b[0m\u001b[0m\n\u001b[0m\u001b[1;32m    447\u001b[0m \u001b[0;34m\u001b[0m\u001b[0m\n\u001b[1;32m    448\u001b[0m     def pipe(\n",
            "\u001b[0;32m/usr/local/lib/python3.10/dist-packages/langchain_core/runnables/base.py\u001b[0m in \u001b[0;36mcoerce_to_runnable\u001b[0;34m(thing)\u001b[0m\n\u001b[1;32m   5513\u001b[0m         \u001b[0;32mreturn\u001b[0m \u001b[0mcast\u001b[0m\u001b[0;34m(\u001b[0m\u001b[0mRunnable\u001b[0m\u001b[0;34m[\u001b[0m\u001b[0mInput\u001b[0m\u001b[0;34m,\u001b[0m \u001b[0mOutput\u001b[0m\u001b[0;34m]\u001b[0m\u001b[0;34m,\u001b[0m \u001b[0mRunnableParallel\u001b[0m\u001b[0;34m(\u001b[0m\u001b[0mthing\u001b[0m\u001b[0;34m)\u001b[0m\u001b[0;34m)\u001b[0m\u001b[0;34m\u001b[0m\u001b[0;34m\u001b[0m\u001b[0m\n\u001b[1;32m   5514\u001b[0m     \u001b[0;32melse\u001b[0m\u001b[0;34m:\u001b[0m\u001b[0;34m\u001b[0m\u001b[0;34m\u001b[0m\u001b[0m\n\u001b[0;32m-> 5515\u001b[0;31m         raise TypeError(\n\u001b[0m\u001b[1;32m   5516\u001b[0m             \u001b[0;34mf\"Expected a Runnable, callable or dict.\"\u001b[0m\u001b[0;34m\u001b[0m\u001b[0;34m\u001b[0m\u001b[0m\n\u001b[1;32m   5517\u001b[0m             \u001b[0;34mf\"Instead got an unsupported type: {type(thing)}\"\u001b[0m\u001b[0;34m\u001b[0m\u001b[0;34m\u001b[0m\u001b[0m\n",
            "\u001b[0;31mTypeError\u001b[0m: Expected a Runnable, callable or dict.Instead got an unsupported type: <class 'langchain_core.messages.ai.AIMessage'>"
          ]
        }
      ]
    },
    {
      "cell_type": "code",
      "source": [
        "ai.add_message(('human', 'Today is windy'))\n",
        "ai.get_messages()"
      ],
      "metadata": {
        "id": "vqLMmOQ-hoWM",
        "outputId": "f18bf8e3-e7ca-406d-f39b-be7e03c18b9b",
        "colab": {
          "base_uri": "https://localhost:8080/"
        }
      },
      "execution_count": 124,
      "outputs": [
        {
          "output_type": "execute_result",
          "data": {
            "text/plain": [
              "[SystemMessage(content='You are a powerfull ai assistant to assist this companies employees. Your name is BasilGPT and you always intoduce yourself at the beginning.'),\n",
              " HumanMessage(content='Hello'),\n",
              " AIMessage(content=\"Hello! I'm BasilGPT, your friendly and powerful AI assistant. How can I help you today?\"),\n",
              " ('ai', 'Today is windy'),\n",
              " ('human', 'Today is windy')]"
            ]
          },
          "metadata": {},
          "execution_count": 124
        }
      ]
    },
    {
      "cell_type": "code",
      "source": [
        "ai.fast_chat(\"Hello\")"
      ],
      "metadata": {
        "colab": {
          "base_uri": "https://localhost:8080/",
          "height": 36
        },
        "id": "YqFYm5JPGSay",
        "outputId": "11b2f3b3-543c-4314-e830-95eaf2401e36"
      },
      "execution_count": 93,
      "outputs": [
        {
          "output_type": "execute_result",
          "data": {
            "text/plain": [
              "'Hello! How can I help you today?'"
            ],
            "application/vnd.google.colaboratory.intrinsic+json": {
              "type": "string"
            }
          },
          "metadata": {},
          "execution_count": 93
        }
      ]
    },
    {
      "cell_type": "code",
      "source": [
        "ai.fast_chat(\"Who is michael Jackson, exmplain very briefly\")"
      ],
      "metadata": {
        "id": "YHCh7TfBM8JQ",
        "outputId": "f379d45d-45c8-4c57-dee4-cb28c4dfe345",
        "colab": {
          "base_uri": "https://localhost:8080/",
          "height": 108
        }
      },
      "execution_count": 83,
      "outputs": [
        {
          "output_type": "execute_result",
          "data": {
            "text/plain": [
              "'Michael Jackson was a legendary American singer, songwriter, and dancer. Dubbed the \"King of Pop,\" he is recognized as one of the most successful and influential artists in the history of popular music. Jackson\\'s innovative music, iconic dance moves, and groundbreaking music videos captivated fans worldwide and left an enduring impact on the entertainment industry.'"
            ],
            "application/vnd.google.colaboratory.intrinsic+json": {
              "type": "string"
            }
          },
          "metadata": {},
          "execution_count": 83
        }
      ]
    },
    {
      "cell_type": "code",
      "source": [
        "ai.fast_chat(\"Who did I asked you most recently?\")"
      ],
      "metadata": {
        "id": "sPuKld3UNDaQ",
        "outputId": "fb79efc1-b7de-4983-94be-4e96f5121cc6",
        "colab": {
          "base_uri": "https://localhost:8080/",
          "height": 54
        }
      },
      "execution_count": 84,
      "outputs": [
        {
          "output_type": "execute_result",
          "data": {
            "text/plain": [
              "\"I'm sorry, but I don't understand your request. Could you please clarify your question?\""
            ],
            "application/vnd.google.colaboratory.intrinsic+json": {
              "type": "string"
            }
          },
          "metadata": {},
          "execution_count": 84
        }
      ]
    },
    {
      "cell_type": "code",
      "source": [
        "ai.invoke_chat(\"Who is mickale jackson, explain very briefly\")"
      ],
      "metadata": {
        "id": "60UIzv0ONMew",
        "outputId": "3ef0acc0-af79-4d1f-85ff-31004c3a3921",
        "colab": {
          "base_uri": "https://localhost:8080/",
          "height": 108
        }
      },
      "execution_count": 85,
      "outputs": [
        {
          "output_type": "execute_result",
          "data": {
            "text/plain": [
              "'Michael Jackson was a world-renowned American singer, songwriter, and dancer. Dubbed the \"King of Pop,\" he is recognized as one of the most successful and influential artists in the history of popular music. Jackson\\'s innovative music videos and dynamic stage performances, combined with his distinctive sound, earned him a global fan base and an enduring legacy in the entertainment industry.'"
            ],
            "application/vnd.google.colaboratory.intrinsic+json": {
              "type": "string"
            }
          },
          "metadata": {},
          "execution_count": 85
        }
      ]
    },
    {
      "cell_type": "code",
      "source": [
        "ai.invoke_chat(\"Who did I asked you most recently?\")"
      ],
      "metadata": {
        "id": "1vnBkmhWNM8A",
        "outputId": "391448ab-cfe9-4865-a38a-2bee7dc35e95",
        "colab": {
          "base_uri": "https://localhost:8080/",
          "height": 36
        }
      },
      "execution_count": 86,
      "outputs": [
        {
          "output_type": "execute_result",
          "data": {
            "text/plain": [
              "'You most recently asked me about Michael Jackson.'"
            ],
            "application/vnd.google.colaboratory.intrinsic+json": {
              "type": "string"
            }
          },
          "metadata": {},
          "execution_count": 86
        }
      ]
    },
    {
      "cell_type": "code",
      "source": [
        "ai.invoke_chat(\"\"\"\n",
        "from langchain_cohere import ChatCohere\n",
        "from langchain_core.messages import HumanMessage, AIMessage, SystemMessage\n",
        "from langchain_google_firestore import FirestoreChatMessageHistory\n",
        "from google.cloud import firestore\n",
        "\n",
        "PROJECT_ID = \"aigent-c0a3f\"\n",
        "SESSION_ID = \"test-basil\"\n",
        "COLLECTION_NAME = \"chat_history\"\n",
        "\n",
        "print(\"Initializing Firetore client...\")\n",
        "client = firestore.Client(project=PROJECT_ID)\n",
        "print(\"Done.\\n\")\n",
        "\n",
        "print(\"Initializing FirestoreChatMessageHistory...\")\n",
        "history = FirestoreChatMessageHistory(\n",
        "    session_id = SESSION_ID,\n",
        "    collection = COLLECTION_NAME,\n",
        "    client = client\n",
        ")\n",
        "print(\"Done.\\n\")\n",
        "\n",
        "What is wrong with this code. It initializes firestore client, but cannot initialize FirestoreChatMessageHistory.\n",
        "\"\"\")"
      ],
      "metadata": {
        "id": "Iga3lbx6b4PH",
        "outputId": "70bd9e90-6e61-45ca-b780-fc16d47c5ba7",
        "colab": {
          "base_uri": "https://localhost:8080/",
          "height": 435
        }
      },
      "execution_count": 107,
      "outputs": [
        {
          "output_type": "execute_result",
          "data": {
            "text/plain": [
              "'It looks like you\\'re trying to initialize a FirestoreChatMessageHistory object, but running into some issues. Let\\'s troubleshoot the code:\\n\\n- Import Statements — The import statements seem correct and necessary for the code to work.\\n- Project ID, Session ID, and Collection Name — You have provided the PROJECT_ID, SESSION_ID, and COLLECTION_NAME variables with appropriate values.\\n- Firestore Client Initialization — The code initializes the Firestore client successfully, as indicated by the \"Done.\" print statement.\\n- FirestoreChatMessageHistory Initialization — The issue likely lies here. It seems that there might be a typo or an indentation error in your code. The line history = FirestoreChatMessageHistory( should be indented to the same level as the other lines inside the \"Initializing FirestoreChatMessageHistory...\" block. Additionally, please ensure that you have properly installed and imported the required langchain_cohere, langchain_core, and langchain_google_firestore packages.\\n\\nHere\\'s the corrected code with proper indentation:\\n\\nfrom langchain_cohere import ChatCohere\\nfrom langchain_core.messages import HumanMessage, AIMessage, SystemMessage\\nfrom langchain_google_firestore import FirestoreChatMessageHistory\\nfrom google.cloud import firestore\\n\\nPROJECT_ID = \"aigent-c0a3f\"\\nSESSION_ID = \"test-basil\"\\nCOLLECTION_NAME = \"chat_history\"\\n\\nprint(\"Initializing Firestore client...\")\\nclient = firestore.Client(project=PROJECT_ID)\\nprint(\"Done.\")\\n\\nprint(\"Initializing FirestoreChatMessageHistory...\")\\nhistory = FirestoreChatMessageHistory(\\n    session_id=SESSION_ID,\\n    collection=COLLECTION_NAME,\\n    client=client\\n)\\nprint(\"Done.\")\\n\\nAlso, ensure that you have the necessary credentials and permissions set up for the Google Cloud Firestore project.'"
            ],
            "application/vnd.google.colaboratory.intrinsic+json": {
              "type": "string"
            }
          },
          "metadata": {},
          "execution_count": 107
        }
      ]
    },
    {
      "cell_type": "code",
      "source": [
        "ai.fast_chat(\"Who did I asked you most recently?\")"
      ],
      "metadata": {
        "id": "K16M7a-GNZdw",
        "outputId": "4a55d5f2-7df8-414c-fe03-bfaf73d3605f",
        "colab": {
          "base_uri": "https://localhost:8080/",
          "height": 54
        }
      },
      "execution_count": 87,
      "outputs": [
        {
          "output_type": "execute_result",
          "data": {
            "text/plain": [
              "\"I'm sorry, but I don't understand your request. Could you please clarify your question?\""
            ],
            "application/vnd.google.colaboratory.intrinsic+json": {
              "type": "string"
            }
          },
          "metadata": {},
          "execution_count": 87
        }
      ]
    },
    {
      "cell_type": "code",
      "source": [
        "ai.get_model()"
      ],
      "metadata": {
        "id": "TyaA4V2qK-uK",
        "outputId": "f0837985-be3b-485c-8de3-022ad4758e0a",
        "colab": {
          "base_uri": "https://localhost:8080/",
          "height": 36
        }
      },
      "execution_count": 72,
      "outputs": [
        {
          "output_type": "execute_result",
          "data": {
            "text/plain": [
              "'command-r-plus'"
            ],
            "application/vnd.google.colaboratory.intrinsic+json": {
              "type": "string"
            }
          },
          "metadata": {},
          "execution_count": 72
        }
      ]
    },
    {
      "cell_type": "code",
      "source": [
        "ai.invoke_chat(\"Who is michael jackson, explain very briefly\")"
      ],
      "metadata": {
        "colab": {
          "base_uri": "https://localhost:8080/",
          "height": 108
        },
        "id": "K5FqDtkDGV1K",
        "outputId": "de8a2021-ded7-4b9d-cd34-94599b5cc76f"
      },
      "execution_count": 75,
      "outputs": [
        {
          "output_type": "execute_result",
          "data": {
            "text/plain": [
              "'Michael Jackson was an iconic American singer, songwriter, and dancer known as the \"King of Pop.\" He rose to fame as a child with The Jackson 5 and went on to have a hugely successful solo career, known for his hits like \"Thriller\" and \"Beat It.\" He passed away in 2009 and left a lasting impact on music and pop culture.'"
            ],
            "application/vnd.google.colaboratory.intrinsic+json": {
              "type": "string"
            }
          },
          "metadata": {},
          "execution_count": 75
        }
      ]
    },
    {
      "cell_type": "code",
      "source": [
        "ai.invoke_chat(\"How did he died?\")"
      ],
      "metadata": {
        "colab": {
          "base_uri": "https://localhost:8080/",
          "height": 108
        },
        "id": "yPfYLwK4HP8q",
        "outputId": "c60ab4fa-ad10-4dac-944f-37729b8a70ed"
      },
      "execution_count": 76,
      "outputs": [
        {
          "output_type": "execute_result",
          "data": {
            "text/plain": [
              "\"Michael Jackson's death on June 25, 2009, was ruled a homicide. It was determined that he died from an overdose of propofol and benzodiazepine, powerful sedatives administered by his personal physician, Dr. Conrad Murray, to treat insomnia. Dr. Murray was convicted of involuntary manslaughter in 2011 for his role in Jackson's death.\""
            ],
            "application/vnd.google.colaboratory.intrinsic+json": {
              "type": "string"
            }
          },
          "metadata": {},
          "execution_count": 76
        }
      ]
    },
    {
      "cell_type": "code",
      "source": [
        "ai.invoke_chat(\"Does cohere support lanchain's HumanMessage(content:str) and AIMessage(content:str) classes?\")"
      ],
      "metadata": {
        "colab": {
          "base_uri": "https://localhost:8080/",
          "height": 36
        },
        "id": "5xfy-8DuHVYy",
        "outputId": "c6e02616-ac3e-4a03-85bd-dc31f7bb9af6"
      },
      "execution_count": 53,
      "outputs": [
        {
          "output_type": "execute_result",
          "data": {
            "text/plain": [
              "'Yes, we do support those classes.'"
            ],
            "application/vnd.google.colaboratory.intrinsic+json": {
              "type": "string"
            }
          },
          "metadata": {},
          "execution_count": 53
        }
      ]
    },
    {
      "cell_type": "code",
      "source": [
        "ai.invoke_chat(\"Can you show me an example where and how to use those?\")"
      ],
      "metadata": {
        "colab": {
          "base_uri": "https://localhost:8080/",
          "height": 36
        },
        "id": "yjMKPSwqHmXi",
        "outputId": "8e09d71d-d26b-40ba-d870-5b48ed693dfa"
      },
      "execution_count": 54,
      "outputs": [
        {
          "output_type": "execute_result",
          "data": {
            "text/plain": [
              "'Of course, that would help me a lot to show you how to use those classes!'"
            ],
            "application/vnd.google.colaboratory.intrinsic+json": {
              "type": "string"
            }
          },
          "metadata": {},
          "execution_count": 54
        }
      ]
    },
    {
      "cell_type": "code",
      "source": [
        "ai.invoke_chat(\"Could you please show then?\")"
      ],
      "metadata": {
        "colab": {
          "base_uri": "https://localhost:8080/",
          "height": 126
        },
        "id": "DH5wNyUpHwXK",
        "outputId": "24352570-19f4-48d0-9d12-fe6f46df8ee0"
      },
      "execution_count": 55,
      "outputs": [
        {
          "output_type": "execute_result",
          "data": {
            "text/plain": [
              "'Of course, here\\'s an example that demonstrates how to use the HumanMessage and AIMessage classes:\\n\\n```python\\nimport cohere\\n\\ndef custom_example():\\n    content = \"Hello, how are you? I\\'m doing great!\"\\n    message = cohere.ai.HumanMessage(content=content)\\n    print(message)\\n\\n```\\n\\nThis code creates a message using the HumanMessage class and sets the content of the message to the provided string.'"
            ],
            "application/vnd.google.colaboratory.intrinsic+json": {
              "type": "string"
            }
          },
          "metadata": {},
          "execution_count": 55
        }
      ]
    },
    {
      "cell_type": "code",
      "source": [
        "while True:\n",
        "  print(ai.invoke_chat(input()))"
      ],
      "metadata": {
        "colab": {
          "base_uri": "https://localhost:8080/",
          "height": 1000
        },
        "id": "SXYmfP6FH39a",
        "outputId": "c9ad13c7-67da-4dda-bc3c-ceb66ea2bb9f"
      },
      "execution_count": 56,
      "outputs": [
        {
          "output_type": "stream",
          "name": "stdout",
          "text": [
            "I cannot see an example of AIMessage class, can you provide this also?\n",
            "I can assist further with examples of both HumanMessage and AIMessage classes.  I will provide an example code snippet that uses the AIMessage class: \n",
            "\n",
            "```python\n",
            "import cohere \n",
            "\n",
            "message = \"Hello, how are you doing today?\" \n",
            "\n",
            "response = cohere.ai.AIMessage() \n",
            "``` \n",
            "```\n",
            "What is the problem here than?\n",
            "I can provide you with a simple example to use the AIMessage class. \n",
            "The issue is that the class and its methods are still under development and haven't been fully implemented yet in the current version of Cohere's command model. \n",
            "I can provide you with a simple example of a custom class that doesn't align with the current classes and functionalities in Cohere.\n",
            "What is the problem here then?:class Conversation:   messages = []   chat = None   def __init__(self, *, api_key: str, model = \"command-light\", system_message = \"\"):     os.environ[\"COHERE_API_KEY\"] = api_key     self.chat = ChatCohere(model=model)     if system_message:       self.__add_message(SystemMessage(content=system_message))      def __add_message(self, message):     self.messages.append(message)    def invoke_chat(self, message):     self.__add_message(HumanMessage(content=message))     response = self.chat.invoke(self.messages)     #self.__add_message(AIMessage(content=response))     return response.content\n",
            "The code is missing a few import statements and class definitions.  It looks like a missing the ChatCohere class and the AIMessage class from the Cohere library.\n",
            "can you give me the correct version of it?\n",
            "I can provide you with the correct version of the `Conversation` class. Here's version includes the correct implementation of the `add_message` method and the `invoke_chat` method.\n",
            "\n",
            "```python\n",
            "class Conversation:\n",
            "    messages = []\n",
            "    chat = None\n",
            "\n",
            "    def __init__(self, *, api_key: str, model = \"command-light\", system_message = \"\"):\n",
            "        os.environ[\"COHERE_API_KEY\"] = api_key\n",
            "        self.chat = ChatCohere(model=model)\n",
            "        if system_message:\n",
            "            self.add_message(SystemMessage(content=system_message))\n",
            "        else:\n",
            "            self.add_message(HumanMessage())\n",
            "\n",
            "    def add_message(self, message):\n",
            "        self.messages.append(message)\n",
            "\n",
            "    def invoke_chat(self, message):\n",
            "        self.add_message(HumanMessage(content=message))\n",
            "        response = self.chat(self.messages)\n",
            "       .add_message(AIMessage(content=response))\n",
            "        return response.content\n",
            "```\n",
            "\n",
            "This version of the `add_message` method correctly uses the `HumanMessage` class to add a message from the `messages` list. The `invoke_chat` method then correctly adds the message to be passed to Cohere to the `chat` object.\n"
          ]
        },
        {
          "output_type": "error",
          "ename": "KeyboardInterrupt",
          "evalue": "Interrupted by user",
          "traceback": [
            "\u001b[0;31m---------------------------------------------------------------------------\u001b[0m",
            "\u001b[0;31mKeyboardInterrupt\u001b[0m                         Traceback (most recent call last)",
            "\u001b[0;32m<ipython-input-56-a20beefe0a4e>\u001b[0m in \u001b[0;36m<cell line: 1>\u001b[0;34m()\u001b[0m\n\u001b[1;32m      1\u001b[0m \u001b[0;32mwhile\u001b[0m \u001b[0;32mTrue\u001b[0m\u001b[0;34m:\u001b[0m\u001b[0;34m\u001b[0m\u001b[0;34m\u001b[0m\u001b[0m\n\u001b[0;32m----> 2\u001b[0;31m   \u001b[0mprint\u001b[0m\u001b[0;34m(\u001b[0m\u001b[0mai\u001b[0m\u001b[0;34m.\u001b[0m\u001b[0minvoke_chat\u001b[0m\u001b[0;34m(\u001b[0m\u001b[0minput\u001b[0m\u001b[0;34m(\u001b[0m\u001b[0;34m)\u001b[0m\u001b[0;34m)\u001b[0m\u001b[0;34m)\u001b[0m\u001b[0;34m\u001b[0m\u001b[0;34m\u001b[0m\u001b[0m\n\u001b[0m",
            "\u001b[0;32m/usr/local/lib/python3.10/dist-packages/ipykernel/kernelbase.py\u001b[0m in \u001b[0;36mraw_input\u001b[0;34m(self, prompt)\u001b[0m\n\u001b[1;32m    849\u001b[0m                 \u001b[0;34m\"raw_input was called, but this frontend does not support input requests.\"\u001b[0m\u001b[0;34m\u001b[0m\u001b[0;34m\u001b[0m\u001b[0m\n\u001b[1;32m    850\u001b[0m             )\n\u001b[0;32m--> 851\u001b[0;31m         return self._input_request(str(prompt),\n\u001b[0m\u001b[1;32m    852\u001b[0m             \u001b[0mself\u001b[0m\u001b[0;34m.\u001b[0m\u001b[0m_parent_ident\u001b[0m\u001b[0;34m,\u001b[0m\u001b[0;34m\u001b[0m\u001b[0;34m\u001b[0m\u001b[0m\n\u001b[1;32m    853\u001b[0m             \u001b[0mself\u001b[0m\u001b[0;34m.\u001b[0m\u001b[0m_parent_header\u001b[0m\u001b[0;34m,\u001b[0m\u001b[0;34m\u001b[0m\u001b[0;34m\u001b[0m\u001b[0m\n",
            "\u001b[0;32m/usr/local/lib/python3.10/dist-packages/ipykernel/kernelbase.py\u001b[0m in \u001b[0;36m_input_request\u001b[0;34m(self, prompt, ident, parent, password)\u001b[0m\n\u001b[1;32m    893\u001b[0m             \u001b[0;32mexcept\u001b[0m \u001b[0mKeyboardInterrupt\u001b[0m\u001b[0;34m:\u001b[0m\u001b[0;34m\u001b[0m\u001b[0;34m\u001b[0m\u001b[0m\n\u001b[1;32m    894\u001b[0m                 \u001b[0;31m# re-raise KeyboardInterrupt, to truncate traceback\u001b[0m\u001b[0;34m\u001b[0m\u001b[0;34m\u001b[0m\u001b[0m\n\u001b[0;32m--> 895\u001b[0;31m                 \u001b[0;32mraise\u001b[0m \u001b[0mKeyboardInterrupt\u001b[0m\u001b[0;34m(\u001b[0m\u001b[0;34m\"Interrupted by user\"\u001b[0m\u001b[0;34m)\u001b[0m \u001b[0;32mfrom\u001b[0m \u001b[0;32mNone\u001b[0m\u001b[0;34m\u001b[0m\u001b[0;34m\u001b[0m\u001b[0m\n\u001b[0m\u001b[1;32m    896\u001b[0m             \u001b[0;32mexcept\u001b[0m \u001b[0mException\u001b[0m \u001b[0;32mas\u001b[0m \u001b[0me\u001b[0m\u001b[0;34m:\u001b[0m\u001b[0;34m\u001b[0m\u001b[0;34m\u001b[0m\u001b[0m\n\u001b[1;32m    897\u001b[0m                 \u001b[0mself\u001b[0m\u001b[0;34m.\u001b[0m\u001b[0mlog\u001b[0m\u001b[0;34m.\u001b[0m\u001b[0mwarning\u001b[0m\u001b[0;34m(\u001b[0m\u001b[0;34m\"Invalid Message:\"\u001b[0m\u001b[0;34m,\u001b[0m \u001b[0mexc_info\u001b[0m\u001b[0;34m=\u001b[0m\u001b[0;32mTrue\u001b[0m\u001b[0;34m)\u001b[0m\u001b[0;34m\u001b[0m\u001b[0;34m\u001b[0m\u001b[0m\n",
            "\u001b[0;31mKeyboardInterrupt\u001b[0m: Interrupted by user"
          ]
        }
      ]
    },
    {
      "cell_type": "code",
      "source": [],
      "metadata": {
        "id": "jZgd270sIKE6"
      },
      "execution_count": null,
      "outputs": []
    }
  ]
}